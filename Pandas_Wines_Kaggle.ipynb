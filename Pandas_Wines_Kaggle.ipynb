{
  "nbformat": 4,
  "nbformat_minor": 0,
  "metadata": {
    "colab": {
      "name": "Pandas_Wines_Kaggle.ipynb",
      "provenance": [],
      "collapsed_sections": [],
      "authorship_tag": "ABX9TyMZdwAPSJZnZMpFk/9NEpb1",
      "include_colab_link": true
    },
    "kernelspec": {
      "name": "python3",
      "display_name": "Python 3"
    }
  },
  "cells": [
    {
      "cell_type": "markdown",
      "metadata": {
        "id": "view-in-github",
        "colab_type": "text"
      },
      "source": [
        "<a href=\"https://colab.research.google.com/github/divyansh1195/Kaggle-ML-Exercise-Notebooks/blob/master/Pandas_Wines_Kaggle.ipynb\" target=\"_parent\"><img src=\"https://colab.research.google.com/assets/colab-badge.svg\" alt=\"Open In Colab\"/></a>"
      ]
    },
    {
      "cell_type": "markdown",
      "metadata": {
        "id": "lL4Xp1v3sc2v",
        "colab_type": "text"
      },
      "source": [
        "In this notebook, I have implemented 'Mapping', 'Grouping', 'Sorting', 'How to take care of Missing Values', 'Renaming and Combining' operations on Wines dataset from Kaggle."
      ]
    },
    {
      "cell_type": "code",
      "metadata": {
        "id": "oi19Vo5gc2-x",
        "colab_type": "code",
        "colab": {
          "base_uri": "https://localhost:8080/",
          "height": 377
        },
        "outputId": "a2944b67-378b-425b-bbfc-b090c7fd085b"
      },
      "source": [
        "import pandas as pd\n",
        "reviews=pd.read_csv('wines.csv', index_col=0)\n",
        "reviews.head(4)"
      ],
      "execution_count": null,
      "outputs": [
        {
          "output_type": "execute_result",
          "data": {
            "text/html": [
              "<div>\n",
              "<style scoped>\n",
              "    .dataframe tbody tr th:only-of-type {\n",
              "        vertical-align: middle;\n",
              "    }\n",
              "\n",
              "    .dataframe tbody tr th {\n",
              "        vertical-align: top;\n",
              "    }\n",
              "\n",
              "    .dataframe thead th {\n",
              "        text-align: right;\n",
              "    }\n",
              "</style>\n",
              "<table border=\"1\" class=\"dataframe\">\n",
              "  <thead>\n",
              "    <tr style=\"text-align: right;\">\n",
              "      <th></th>\n",
              "      <th>country</th>\n",
              "      <th>description</th>\n",
              "      <th>designation</th>\n",
              "      <th>points</th>\n",
              "      <th>price</th>\n",
              "      <th>province</th>\n",
              "      <th>region_1</th>\n",
              "      <th>region_2</th>\n",
              "      <th>taster_name</th>\n",
              "      <th>taster_twitter_handle</th>\n",
              "      <th>title</th>\n",
              "      <th>variety</th>\n",
              "      <th>winery</th>\n",
              "    </tr>\n",
              "  </thead>\n",
              "  <tbody>\n",
              "    <tr>\n",
              "      <th>0</th>\n",
              "      <td>Italy</td>\n",
              "      <td>Aromas include tropical fruit, broom, brimston...</td>\n",
              "      <td>Vulkà Bianco</td>\n",
              "      <td>87</td>\n",
              "      <td>NaN</td>\n",
              "      <td>Sicily &amp; Sardinia</td>\n",
              "      <td>Etna</td>\n",
              "      <td>NaN</td>\n",
              "      <td>Kerin O’Keefe</td>\n",
              "      <td>@kerinokeefe</td>\n",
              "      <td>Nicosia 2013 Vulkà Bianco  (Etna)</td>\n",
              "      <td>White Blend</td>\n",
              "      <td>Nicosia</td>\n",
              "    </tr>\n",
              "    <tr>\n",
              "      <th>1</th>\n",
              "      <td>Portugal</td>\n",
              "      <td>This is ripe and fruity, a wine that is smooth...</td>\n",
              "      <td>Avidagos</td>\n",
              "      <td>87</td>\n",
              "      <td>15.0</td>\n",
              "      <td>Douro</td>\n",
              "      <td>NaN</td>\n",
              "      <td>NaN</td>\n",
              "      <td>Roger Voss</td>\n",
              "      <td>@vossroger</td>\n",
              "      <td>Quinta dos Avidagos 2011 Avidagos Red (Douro)</td>\n",
              "      <td>Portuguese Red</td>\n",
              "      <td>Quinta dos Avidagos</td>\n",
              "    </tr>\n",
              "    <tr>\n",
              "      <th>2</th>\n",
              "      <td>US</td>\n",
              "      <td>Tart and snappy, the flavors of lime flesh and...</td>\n",
              "      <td>NaN</td>\n",
              "      <td>87</td>\n",
              "      <td>14.0</td>\n",
              "      <td>Oregon</td>\n",
              "      <td>Willamette Valley</td>\n",
              "      <td>Willamette Valley</td>\n",
              "      <td>Paul Gregutt</td>\n",
              "      <td>@paulgwine</td>\n",
              "      <td>Rainstorm 2013 Pinot Gris (Willamette Valley)</td>\n",
              "      <td>Pinot Gris</td>\n",
              "      <td>Rainstorm</td>\n",
              "    </tr>\n",
              "    <tr>\n",
              "      <th>3</th>\n",
              "      <td>US</td>\n",
              "      <td>Pineapple rind, lemon pith and orange blossom ...</td>\n",
              "      <td>Reserve Late Harvest</td>\n",
              "      <td>87</td>\n",
              "      <td>13.0</td>\n",
              "      <td>Michigan</td>\n",
              "      <td>Lake Michigan Shore</td>\n",
              "      <td>NaN</td>\n",
              "      <td>Alexander Peartree</td>\n",
              "      <td>NaN</td>\n",
              "      <td>St. Julian 2013 Reserve Late Harvest Riesling ...</td>\n",
              "      <td>Riesling</td>\n",
              "      <td>St. Julian</td>\n",
              "    </tr>\n",
              "  </tbody>\n",
              "</table>\n",
              "</div>"
            ],
            "text/plain": [
              "    country  ...               winery\n",
              "0     Italy  ...              Nicosia\n",
              "1  Portugal  ...  Quinta dos Avidagos\n",
              "2        US  ...            Rainstorm\n",
              "3        US  ...           St. Julian\n",
              "\n",
              "[4 rows x 13 columns]"
            ]
          },
          "metadata": {
            "tags": []
          },
          "execution_count": 1
        }
      ]
    },
    {
      "cell_type": "code",
      "metadata": {
        "id": "H5UB1QIIwRmg",
        "colab_type": "code",
        "colab": {
          "base_uri": "https://localhost:8080/",
          "height": 173
        },
        "outputId": "f0d4d29b-9533-45bc-f858-ec155d292595"
      },
      "source": [
        "#Q1. Create a variable df containing the country, province, region_1, and region_2 columns of the records with the index labels 0, 1, 10, and 100.\n",
        "df_new=reviews.loc[[0,1,10,100],['country', 'province', 'region_1', 'region_2']]\n",
        "df_new\n",
        "#whenever there is label indexing use .loc instaed of .iloc"
      ],
      "execution_count": null,
      "outputs": [
        {
          "output_type": "execute_result",
          "data": {
            "text/html": [
              "<div>\n",
              "<style scoped>\n",
              "    .dataframe tbody tr th:only-of-type {\n",
              "        vertical-align: middle;\n",
              "    }\n",
              "\n",
              "    .dataframe tbody tr th {\n",
              "        vertical-align: top;\n",
              "    }\n",
              "\n",
              "    .dataframe thead th {\n",
              "        text-align: right;\n",
              "    }\n",
              "</style>\n",
              "<table border=\"1\" class=\"dataframe\">\n",
              "  <thead>\n",
              "    <tr style=\"text-align: right;\">\n",
              "      <th></th>\n",
              "      <th>country</th>\n",
              "      <th>province</th>\n",
              "      <th>region_1</th>\n",
              "      <th>region_2</th>\n",
              "    </tr>\n",
              "  </thead>\n",
              "  <tbody>\n",
              "    <tr>\n",
              "      <th>0</th>\n",
              "      <td>Italy</td>\n",
              "      <td>Sicily &amp; Sardinia</td>\n",
              "      <td>Etna</td>\n",
              "      <td>NaN</td>\n",
              "    </tr>\n",
              "    <tr>\n",
              "      <th>1</th>\n",
              "      <td>Portugal</td>\n",
              "      <td>Douro</td>\n",
              "      <td>NaN</td>\n",
              "      <td>NaN</td>\n",
              "    </tr>\n",
              "    <tr>\n",
              "      <th>10</th>\n",
              "      <td>US</td>\n",
              "      <td>California</td>\n",
              "      <td>Napa Valley</td>\n",
              "      <td>Napa</td>\n",
              "    </tr>\n",
              "    <tr>\n",
              "      <th>100</th>\n",
              "      <td>US</td>\n",
              "      <td>New York</td>\n",
              "      <td>Finger Lakes</td>\n",
              "      <td>Finger Lakes</td>\n",
              "    </tr>\n",
              "  </tbody>\n",
              "</table>\n",
              "</div>"
            ],
            "text/plain": [
              "      country           province      region_1      region_2\n",
              "0       Italy  Sicily & Sardinia          Etna           NaN\n",
              "1    Portugal              Douro           NaN           NaN\n",
              "10         US         California   Napa Valley          Napa\n",
              "100        US           New York  Finger Lakes  Finger Lakes"
            ]
          },
          "metadata": {
            "tags": []
          },
          "execution_count": 2
        }
      ]
    },
    {
      "cell_type": "code",
      "metadata": {
        "id": "CcLNxWjKxu3b",
        "colab_type": "code",
        "colab": {
          "base_uri": "https://localhost:8080/",
          "height": 419
        },
        "outputId": "eeb94c5e-12e5-4511-9211-59f369a70bb1"
      },
      "source": [
        "#Q2.Create a variable df containing the country and variety columns of the first 100 records.\n",
        "country_variety_100=df = reviews.loc[0:99,['country','variety']]\n",
        "country_variety_100"
      ],
      "execution_count": null,
      "outputs": [
        {
          "output_type": "execute_result",
          "data": {
            "text/html": [
              "<div>\n",
              "<style scoped>\n",
              "    .dataframe tbody tr th:only-of-type {\n",
              "        vertical-align: middle;\n",
              "    }\n",
              "\n",
              "    .dataframe tbody tr th {\n",
              "        vertical-align: top;\n",
              "    }\n",
              "\n",
              "    .dataframe thead th {\n",
              "        text-align: right;\n",
              "    }\n",
              "</style>\n",
              "<table border=\"1\" class=\"dataframe\">\n",
              "  <thead>\n",
              "    <tr style=\"text-align: right;\">\n",
              "      <th></th>\n",
              "      <th>country</th>\n",
              "      <th>variety</th>\n",
              "    </tr>\n",
              "  </thead>\n",
              "  <tbody>\n",
              "    <tr>\n",
              "      <th>0</th>\n",
              "      <td>Italy</td>\n",
              "      <td>White Blend</td>\n",
              "    </tr>\n",
              "    <tr>\n",
              "      <th>1</th>\n",
              "      <td>Portugal</td>\n",
              "      <td>Portuguese Red</td>\n",
              "    </tr>\n",
              "    <tr>\n",
              "      <th>2</th>\n",
              "      <td>US</td>\n",
              "      <td>Pinot Gris</td>\n",
              "    </tr>\n",
              "    <tr>\n",
              "      <th>3</th>\n",
              "      <td>US</td>\n",
              "      <td>Riesling</td>\n",
              "    </tr>\n",
              "    <tr>\n",
              "      <th>4</th>\n",
              "      <td>US</td>\n",
              "      <td>Pinot Noir</td>\n",
              "    </tr>\n",
              "    <tr>\n",
              "      <th>...</th>\n",
              "      <td>...</td>\n",
              "      <td>...</td>\n",
              "    </tr>\n",
              "    <tr>\n",
              "      <th>95</th>\n",
              "      <td>France</td>\n",
              "      <td>Gamay</td>\n",
              "    </tr>\n",
              "    <tr>\n",
              "      <th>96</th>\n",
              "      <td>France</td>\n",
              "      <td>Gamay</td>\n",
              "    </tr>\n",
              "    <tr>\n",
              "      <th>97</th>\n",
              "      <td>US</td>\n",
              "      <td>Riesling</td>\n",
              "    </tr>\n",
              "    <tr>\n",
              "      <th>98</th>\n",
              "      <td>Italy</td>\n",
              "      <td>Sangiovese</td>\n",
              "    </tr>\n",
              "    <tr>\n",
              "      <th>99</th>\n",
              "      <td>US</td>\n",
              "      <td>Bordeaux-style Red Blend</td>\n",
              "    </tr>\n",
              "  </tbody>\n",
              "</table>\n",
              "<p>100 rows × 2 columns</p>\n",
              "</div>"
            ],
            "text/plain": [
              "     country                   variety\n",
              "0      Italy               White Blend\n",
              "1   Portugal            Portuguese Red\n",
              "2         US                Pinot Gris\n",
              "3         US                  Riesling\n",
              "4         US                Pinot Noir\n",
              "..       ...                       ...\n",
              "95    France                     Gamay\n",
              "96    France                     Gamay\n",
              "97        US                  Riesling\n",
              "98     Italy                Sangiovese\n",
              "99        US  Bordeaux-style Red Blend\n",
              "\n",
              "[100 rows x 2 columns]"
            ]
          },
          "metadata": {
            "tags": []
          },
          "execution_count": 3
        }
      ]
    },
    {
      "cell_type": "code",
      "metadata": {
        "id": "h4yN9CoT0Cbj",
        "colab_type": "code",
        "colab": {
          "base_uri": "https://localhost:8080/",
          "height": 493
        },
        "outputId": "7880040a-5ad3-4156-fc9a-06992bff19f1"
      },
      "source": [
        "#Q3.Create a DataFrame italian_wines containing reviews of wines made in Italy\n",
        "country_italy=reviews[reviews.country=='Italy']\n",
        "country_italy.head(5)"
      ],
      "execution_count": null,
      "outputs": [
        {
          "output_type": "execute_result",
          "data": {
            "text/html": [
              "<div>\n",
              "<style scoped>\n",
              "    .dataframe tbody tr th:only-of-type {\n",
              "        vertical-align: middle;\n",
              "    }\n",
              "\n",
              "    .dataframe tbody tr th {\n",
              "        vertical-align: top;\n",
              "    }\n",
              "\n",
              "    .dataframe thead th {\n",
              "        text-align: right;\n",
              "    }\n",
              "</style>\n",
              "<table border=\"1\" class=\"dataframe\">\n",
              "  <thead>\n",
              "    <tr style=\"text-align: right;\">\n",
              "      <th></th>\n",
              "      <th>country</th>\n",
              "      <th>description</th>\n",
              "      <th>designation</th>\n",
              "      <th>points</th>\n",
              "      <th>price</th>\n",
              "      <th>province</th>\n",
              "      <th>region_1</th>\n",
              "      <th>region_2</th>\n",
              "      <th>taster_name</th>\n",
              "      <th>taster_twitter_handle</th>\n",
              "      <th>title</th>\n",
              "      <th>variety</th>\n",
              "      <th>winery</th>\n",
              "    </tr>\n",
              "  </thead>\n",
              "  <tbody>\n",
              "    <tr>\n",
              "      <th>0</th>\n",
              "      <td>Italy</td>\n",
              "      <td>Aromas include tropical fruit, broom, brimston...</td>\n",
              "      <td>Vulkà Bianco</td>\n",
              "      <td>87</td>\n",
              "      <td>NaN</td>\n",
              "      <td>Sicily &amp; Sardinia</td>\n",
              "      <td>Etna</td>\n",
              "      <td>NaN</td>\n",
              "      <td>Kerin O’Keefe</td>\n",
              "      <td>@kerinokeefe</td>\n",
              "      <td>Nicosia 2013 Vulkà Bianco  (Etna)</td>\n",
              "      <td>White Blend</td>\n",
              "      <td>Nicosia</td>\n",
              "    </tr>\n",
              "    <tr>\n",
              "      <th>6</th>\n",
              "      <td>Italy</td>\n",
              "      <td>Here's a bright, informal red that opens with ...</td>\n",
              "      <td>Belsito</td>\n",
              "      <td>87</td>\n",
              "      <td>16.0</td>\n",
              "      <td>Sicily &amp; Sardinia</td>\n",
              "      <td>Vittoria</td>\n",
              "      <td>NaN</td>\n",
              "      <td>Kerin O’Keefe</td>\n",
              "      <td>@kerinokeefe</td>\n",
              "      <td>Terre di Giurfo 2013 Belsito Frappato (Vittoria)</td>\n",
              "      <td>Frappato</td>\n",
              "      <td>Terre di Giurfo</td>\n",
              "    </tr>\n",
              "    <tr>\n",
              "      <th>13</th>\n",
              "      <td>Italy</td>\n",
              "      <td>This is dominated by oak and oak-driven aromas...</td>\n",
              "      <td>Rosso</td>\n",
              "      <td>87</td>\n",
              "      <td>NaN</td>\n",
              "      <td>Sicily &amp; Sardinia</td>\n",
              "      <td>Etna</td>\n",
              "      <td>NaN</td>\n",
              "      <td>Kerin O’Keefe</td>\n",
              "      <td>@kerinokeefe</td>\n",
              "      <td>Masseria Setteporte 2012 Rosso  (Etna)</td>\n",
              "      <td>Nerello Mascalese</td>\n",
              "      <td>Masseria Setteporte</td>\n",
              "    </tr>\n",
              "    <tr>\n",
              "      <th>22</th>\n",
              "      <td>Italy</td>\n",
              "      <td>Delicate aromas recall white flower and citrus...</td>\n",
              "      <td>Ficiligno</td>\n",
              "      <td>87</td>\n",
              "      <td>19.0</td>\n",
              "      <td>Sicily &amp; Sardinia</td>\n",
              "      <td>Sicilia</td>\n",
              "      <td>NaN</td>\n",
              "      <td>Kerin O’Keefe</td>\n",
              "      <td>@kerinokeefe</td>\n",
              "      <td>Baglio di Pianetto 2007 Ficiligno White (Sicilia)</td>\n",
              "      <td>White Blend</td>\n",
              "      <td>Baglio di Pianetto</td>\n",
              "    </tr>\n",
              "    <tr>\n",
              "      <th>24</th>\n",
              "      <td>Italy</td>\n",
              "      <td>Aromas of prune, blackcurrant, toast and oak c...</td>\n",
              "      <td>Aynat</td>\n",
              "      <td>87</td>\n",
              "      <td>35.0</td>\n",
              "      <td>Sicily &amp; Sardinia</td>\n",
              "      <td>Sicilia</td>\n",
              "      <td>NaN</td>\n",
              "      <td>Kerin O’Keefe</td>\n",
              "      <td>@kerinokeefe</td>\n",
              "      <td>Canicattì 2009 Aynat Nero d'Avola (Sicilia)</td>\n",
              "      <td>Nero d'Avola</td>\n",
              "      <td>Canicattì</td>\n",
              "    </tr>\n",
              "  </tbody>\n",
              "</table>\n",
              "</div>"
            ],
            "text/plain": [
              "   country  ...               winery\n",
              "0    Italy  ...              Nicosia\n",
              "6    Italy  ...      Terre di Giurfo\n",
              "13   Italy  ...  Masseria Setteporte\n",
              "22   Italy  ...   Baglio di Pianetto\n",
              "24   Italy  ...            Canicattì\n",
              "\n",
              "[5 rows x 13 columns]"
            ]
          },
          "metadata": {
            "tags": []
          },
          "execution_count": 4
        }
      ]
    },
    {
      "cell_type": "code",
      "metadata": {
        "id": "ySFk3caM1bmQ",
        "colab_type": "code",
        "colab": {
          "base_uri": "https://localhost:8080/",
          "height": 247
        },
        "outputId": "3625a7c3-11e8-400c-bd23-291b9884a22b"
      },
      "source": [
        "#Q4.Create a DataFrame top_oceania_wines containing all reviews with at least 95 points (out of 100) for wines from Australia or New Zealand.\n",
        "oceania_wines=reviews[(reviews.country.isin(['Australia', 'New Zealand'])) & (reviews.points>=95)]\n",
        "oceania_wines.head(2)"
      ],
      "execution_count": null,
      "outputs": [
        {
          "output_type": "execute_result",
          "data": {
            "text/html": [
              "<div>\n",
              "<style scoped>\n",
              "    .dataframe tbody tr th:only-of-type {\n",
              "        vertical-align: middle;\n",
              "    }\n",
              "\n",
              "    .dataframe tbody tr th {\n",
              "        vertical-align: top;\n",
              "    }\n",
              "\n",
              "    .dataframe thead th {\n",
              "        text-align: right;\n",
              "    }\n",
              "</style>\n",
              "<table border=\"1\" class=\"dataframe\">\n",
              "  <thead>\n",
              "    <tr style=\"text-align: right;\">\n",
              "      <th></th>\n",
              "      <th>country</th>\n",
              "      <th>description</th>\n",
              "      <th>designation</th>\n",
              "      <th>points</th>\n",
              "      <th>price</th>\n",
              "      <th>province</th>\n",
              "      <th>region_1</th>\n",
              "      <th>region_2</th>\n",
              "      <th>taster_name</th>\n",
              "      <th>taster_twitter_handle</th>\n",
              "      <th>title</th>\n",
              "      <th>variety</th>\n",
              "      <th>winery</th>\n",
              "    </tr>\n",
              "  </thead>\n",
              "  <tbody>\n",
              "    <tr>\n",
              "      <th>345</th>\n",
              "      <td>Australia</td>\n",
              "      <td>This wine contains some material over 100 year...</td>\n",
              "      <td>Rare</td>\n",
              "      <td>100</td>\n",
              "      <td>350.0</td>\n",
              "      <td>Victoria</td>\n",
              "      <td>Rutherglen</td>\n",
              "      <td>NaN</td>\n",
              "      <td>Joe Czerwinski</td>\n",
              "      <td>@JoeCz</td>\n",
              "      <td>Chambers Rosewood Vineyards NV Rare Muscat (Ru...</td>\n",
              "      <td>Muscat</td>\n",
              "      <td>Chambers Rosewood Vineyards</td>\n",
              "    </tr>\n",
              "    <tr>\n",
              "      <th>346</th>\n",
              "      <td>Australia</td>\n",
              "      <td>This deep brown wine smells like a damp, mossy...</td>\n",
              "      <td>Rare</td>\n",
              "      <td>98</td>\n",
              "      <td>350.0</td>\n",
              "      <td>Victoria</td>\n",
              "      <td>Rutherglen</td>\n",
              "      <td>NaN</td>\n",
              "      <td>Joe Czerwinski</td>\n",
              "      <td>@JoeCz</td>\n",
              "      <td>Chambers Rosewood Vineyards NV Rare Muscadelle...</td>\n",
              "      <td>Muscadelle</td>\n",
              "      <td>Chambers Rosewood Vineyards</td>\n",
              "    </tr>\n",
              "  </tbody>\n",
              "</table>\n",
              "</div>"
            ],
            "text/plain": [
              "       country  ...                       winery\n",
              "345  Australia  ...  Chambers Rosewood Vineyards\n",
              "346  Australia  ...  Chambers Rosewood Vineyards\n",
              "\n",
              "[2 rows x 13 columns]"
            ]
          },
          "metadata": {
            "tags": []
          },
          "execution_count": 5
        }
      ]
    },
    {
      "cell_type": "markdown",
      "metadata": {
        "id": "z3AhPRMZbQuE",
        "colab_type": "text"
      },
      "source": [
        "**Exercise: Summary Functions and Maps**"
      ]
    },
    {
      "cell_type": "code",
      "metadata": {
        "id": "RJ_GERbkhlIa",
        "colab_type": "code",
        "colab": {
          "base_uri": "https://localhost:8080/",
          "height": 34
        },
        "outputId": "acab6203-65ad-40ff-ef09-edd604551dd2"
      },
      "source": [
        "#Q1.median of the points column in the reviews DataFrame\n",
        "#median of the points column in the reviews DataFrame\n",
        "median_points = reviews.points.median()\n",
        "median_points"
      ],
      "execution_count": null,
      "outputs": [
        {
          "output_type": "execute_result",
          "data": {
            "text/plain": [
              "88.0"
            ]
          },
          "metadata": {
            "tags": []
          },
          "execution_count": 6
        }
      ]
    },
    {
      "cell_type": "code",
      "metadata": {
        "id": "q32ANHTWhm-i",
        "colab_type": "code",
        "colab": {
          "base_uri": "https://localhost:8080/",
          "height": 884
        },
        "outputId": "adef712f-31b8-4c94-e2bd-73ddfdfdf185"
      },
      "source": [
        "#Q2.What countries are represented in the dataset? no duplicates\n",
        "countries = reviews.country.unique()\n",
        "print(countries)\n",
        "#Q3.How often does each country appear in the dataset? \n",
        "country_counts=reviews.country.value_counts().sort_values(ascending=False)\n",
        "print(country_counts)#frequency of countries"
      ],
      "execution_count": null,
      "outputs": [
        {
          "output_type": "stream",
          "text": [
            "['Italy' 'Portugal' 'US' 'Spain' 'France' 'Germany' 'Argentina' 'Chile'\n",
            " 'Australia' 'Austria' 'South Africa' 'New Zealand' 'Israel' 'Hungary'\n",
            " 'Greece' 'Romania' 'Mexico' 'Canada' nan 'Turkey' 'Czech Republic'\n",
            " 'Slovenia' 'Luxembourg' 'Croatia' 'Georgia' 'Uruguay' 'England' 'Lebanon'\n",
            " 'Serbia' 'Brazil' 'Moldova' 'Morocco' 'Peru' 'India' 'Bulgaria' 'Cyprus'\n",
            " 'Armenia' 'Switzerland' 'Bosnia and Herzegovina' 'Ukraine' 'Slovakia'\n",
            " 'Macedonia' 'China' 'Egypt']\n",
            "US                        54504\n",
            "France                    22093\n",
            "Italy                     19540\n",
            "Spain                      6645\n",
            "Portugal                   5691\n",
            "Chile                      4472\n",
            "Argentina                  3800\n",
            "Austria                    3345\n",
            "Australia                  2329\n",
            "Germany                    2165\n",
            "New Zealand                1419\n",
            "South Africa               1401\n",
            "Israel                      505\n",
            "Greece                      466\n",
            "Canada                      257\n",
            "Hungary                     146\n",
            "Bulgaria                    141\n",
            "Romania                     120\n",
            "Uruguay                     109\n",
            "Turkey                       90\n",
            "Slovenia                     87\n",
            "Georgia                      86\n",
            "England                      74\n",
            "Croatia                      73\n",
            "Mexico                       70\n",
            "Moldova                      59\n",
            "Brazil                       52\n",
            "Lebanon                      35\n",
            "Morocco                      28\n",
            "Peru                         16\n",
            "Ukraine                      14\n",
            "Macedonia                    12\n",
            "Serbia                       12\n",
            "Czech Republic               12\n",
            "Cyprus                       11\n",
            "India                         9\n",
            "Switzerland                   7\n",
            "Luxembourg                    6\n",
            "Bosnia and Herzegovina        2\n",
            "Armenia                       2\n",
            "Slovakia                      1\n",
            "China                         1\n",
            "Egypt                         1\n",
            "Name: country, dtype: int64\n"
          ],
          "name": "stdout"
        }
      ]
    },
    {
      "cell_type": "code",
      "metadata": {
        "id": "Tt2GNL38hnJx",
        "colab_type": "code",
        "colab": {
          "base_uri": "https://localhost:8080/",
          "height": 221
        },
        "outputId": "926425b0-ee81-4b33-ef40-d8fffeba0df0"
      },
      "source": [
        "#Q4.Create variable centered_price containing a version of the price column with the mean price subtracted.\n",
        "centered_price = reviews.price-reviews.price.mean()\n",
        "print(centered_price)"
      ],
      "execution_count": null,
      "outputs": [
        {
          "output_type": "stream",
          "text": [
            "0               NaN\n",
            "1        -20.363389\n",
            "2        -21.363389\n",
            "3        -22.363389\n",
            "4         29.636611\n",
            "            ...    \n",
            "129966    -7.363389\n",
            "129967    39.636611\n",
            "129968    -5.363389\n",
            "129969    -3.363389\n",
            "129970   -14.363389\n",
            "Name: price, Length: 129971, dtype: float64\n"
          ],
          "name": "stdout"
        }
      ]
    },
    {
      "cell_type": "code",
      "metadata": {
        "id": "eTE6cJlcX3zS",
        "colab_type": "code",
        "colab": {
          "base_uri": "https://localhost:8080/",
          "height": 35
        },
        "outputId": "74d60805-7116-4fb4-f541-593714eb8346"
      },
      "source": [
        "#Q5.\n",
        "#I'm an economical wine buyer. Which wine is the \"best bargain\"? \n",
        "#Create a variable bargain_wine with the title of the wine with the highest points-to-price ratio in the dataset.\n",
        "#idxmax() function to find the index of the maximum value along the column axis\n",
        "\n",
        "#difference between .loc and .iloc\n",
        "#loc gets rows (or columns) with particular labels from the index.\n",
        "#iloc gets rows (or columns) at particular positions in the index (so it only takes integers)\n",
        "\n",
        "points_to_price_ratio=(reviews.points/reviews.price)\n",
        "#add a column top the dataset in python\n",
        "reviews['points_to_price_ratio']=points_to_price_ratio\n",
        "#idxmax returns the label with maximum value\n",
        "bargain_wine = reviews.loc[points_to_price_ratio.idxmax(), 'title']\n",
        "bargain_wine"
      ],
      "execution_count": null,
      "outputs": [
        {
          "output_type": "execute_result",
          "data": {
            "application/vnd.google.colaboratory.intrinsic": {
              "type": "string"
            },
            "text/plain": [
              "'Bandit NV Merlot (California)'"
            ]
          },
          "metadata": {
            "tags": []
          },
          "execution_count": 9
        }
      ]
    },
    {
      "cell_type": "code",
      "metadata": {
        "id": "gmg2Te97pswb",
        "colab_type": "code",
        "colab": {
          "base_uri": "https://localhost:8080/",
          "height": 68
        },
        "outputId": "c61d0e31-6acb-4bc3-a588-c64ac0901166"
      },
      "source": [
        "#Q6. Is a wine more likely to be \"tropical\" or \"fruity\"? \n",
        "#Create a Series descriptor_counts counting how many times each of these two words appears in the description column in the dataset.\n",
        "\n",
        "#Map in Python-\n",
        "#Python map() function is used to apply a function on all the elements of specified iterable and return map object. \n",
        "#Python map object is an iterator, so we can iterate over its elements.\n",
        "\n",
        "desc_tropical=reviews.description.map(lambda desc: \"tropical\" in desc).sum()\n",
        "desc_fruity=reviews.description.map(lambda desc: \"fruity\" in desc).sum()\n",
        "descriptor_counts = pd.Series([desc_tropical, desc_fruity], index=['tropical', 'fruity'], name='Descriptor Counts')\n",
        "descriptor_counts"
      ],
      "execution_count": null,
      "outputs": [
        {
          "output_type": "execute_result",
          "data": {
            "text/plain": [
              "tropical    3607\n",
              "fruity      9090\n",
              "Name: Descriptor Counts, dtype: int64"
            ]
          },
          "metadata": {
            "tags": []
          },
          "execution_count": 10
        }
      ]
    },
    {
      "cell_type": "code",
      "metadata": {
        "id": "rBQ18O30k1i2",
        "colab_type": "code",
        "colab": {
          "base_uri": "https://localhost:8080/",
          "height": 301
        },
        "outputId": "35bcba15-c48c-4609-a53a-2cb2b263d8f2"
      },
      "source": [
        "#Q7.Create a series star_ratings with the number of stars corresponding to each review in the dataset.\n",
        "#apply() is the equivalent method if we want to transform a whole DataFrame by calling a custom method on each row.\n",
        "def star_points(row):\n",
        "  \"\"\"A score of 95 or higher counts as 3 stars, a score of at least 85 but less than 95 is 2 stars. Any other score is 1 star.\n",
        "  Also, any wines from Canada should automatically get 3 stars, regardless of points.\"\"\"\n",
        "  if row.country=='Canada':\n",
        "      return 3\n",
        "  elif row.points >=95:\n",
        "      return 3 \n",
        "  elif row.points >=85:\n",
        "      return 2\n",
        "  else:\n",
        "      return 1\n",
        "star_ratings = reviews.apply(star_points, axis='columns')#adds the star_ratings to the column section \n",
        "reviews[\"star_ratings\"]=star_ratings\n",
        "reviews.head(2)"
      ],
      "execution_count": null,
      "outputs": [
        {
          "output_type": "execute_result",
          "data": {
            "text/html": [
              "<div>\n",
              "<style scoped>\n",
              "    .dataframe tbody tr th:only-of-type {\n",
              "        vertical-align: middle;\n",
              "    }\n",
              "\n",
              "    .dataframe tbody tr th {\n",
              "        vertical-align: top;\n",
              "    }\n",
              "\n",
              "    .dataframe thead th {\n",
              "        text-align: right;\n",
              "    }\n",
              "</style>\n",
              "<table border=\"1\" class=\"dataframe\">\n",
              "  <thead>\n",
              "    <tr style=\"text-align: right;\">\n",
              "      <th></th>\n",
              "      <th>country</th>\n",
              "      <th>description</th>\n",
              "      <th>designation</th>\n",
              "      <th>points</th>\n",
              "      <th>price</th>\n",
              "      <th>province</th>\n",
              "      <th>region_1</th>\n",
              "      <th>region_2</th>\n",
              "      <th>taster_name</th>\n",
              "      <th>taster_twitter_handle</th>\n",
              "      <th>title</th>\n",
              "      <th>variety</th>\n",
              "      <th>winery</th>\n",
              "      <th>points_to_price_ratio</th>\n",
              "      <th>star_ratings</th>\n",
              "    </tr>\n",
              "  </thead>\n",
              "  <tbody>\n",
              "    <tr>\n",
              "      <th>0</th>\n",
              "      <td>Italy</td>\n",
              "      <td>Aromas include tropical fruit, broom, brimston...</td>\n",
              "      <td>Vulkà Bianco</td>\n",
              "      <td>87</td>\n",
              "      <td>NaN</td>\n",
              "      <td>Sicily &amp; Sardinia</td>\n",
              "      <td>Etna</td>\n",
              "      <td>NaN</td>\n",
              "      <td>Kerin O’Keefe</td>\n",
              "      <td>@kerinokeefe</td>\n",
              "      <td>Nicosia 2013 Vulkà Bianco  (Etna)</td>\n",
              "      <td>White Blend</td>\n",
              "      <td>Nicosia</td>\n",
              "      <td>NaN</td>\n",
              "      <td>2</td>\n",
              "    </tr>\n",
              "    <tr>\n",
              "      <th>1</th>\n",
              "      <td>Portugal</td>\n",
              "      <td>This is ripe and fruity, a wine that is smooth...</td>\n",
              "      <td>Avidagos</td>\n",
              "      <td>87</td>\n",
              "      <td>15.0</td>\n",
              "      <td>Douro</td>\n",
              "      <td>NaN</td>\n",
              "      <td>NaN</td>\n",
              "      <td>Roger Voss</td>\n",
              "      <td>@vossroger</td>\n",
              "      <td>Quinta dos Avidagos 2011 Avidagos Red (Douro)</td>\n",
              "      <td>Portuguese Red</td>\n",
              "      <td>Quinta dos Avidagos</td>\n",
              "      <td>5.8</td>\n",
              "      <td>2</td>\n",
              "    </tr>\n",
              "  </tbody>\n",
              "</table>\n",
              "</div>"
            ],
            "text/plain": [
              "    country  ... star_ratings\n",
              "0     Italy  ...            2\n",
              "1  Portugal  ...            2\n",
              "\n",
              "[2 rows x 15 columns]"
            ]
          },
          "metadata": {
            "tags": []
          },
          "execution_count": 11
        }
      ]
    },
    {
      "cell_type": "markdown",
      "metadata": {
        "id": "2ZV-Q3bwAnQz",
        "colab_type": "text"
      },
      "source": [
        "**Exercise: Grouping and Sorting**"
      ]
    },
    {
      "cell_type": "code",
      "metadata": {
        "id": "TlxVaMpBAqgU",
        "colab_type": "code",
        "colab": {
          "base_uri": "https://localhost:8080/",
          "height": 289
        },
        "outputId": "928065fe-fa73-41ea-b9af-f4a75c17245f"
      },
      "source": [
        "#Q1.most common wine reviewers in the dataset\n",
        "#Create a Series whose index is the taster_twitter_handle category from the dataset, and whose values count how many reviews each person wrote\n",
        "#reviews_written =reviews.groupby('taster_twitter_handle').taster_twitter_handle.count() \n",
        "#or,\n",
        "#reviews_written =reviews.groupby('taster_twitter_handle').size()\n",
        "#or,\n",
        "reviews_written =reviews.taster_twitter_handle.value_counts().sort_values(ascending=True)\n",
        "reviews_written"
      ],
      "execution_count": null,
      "outputs": [
        {
          "output_type": "execute_result",
          "data": {
            "text/plain": [
              "@winewchristina         6\n",
              "@bkfiona               27\n",
              "@worldwineguys       1005\n",
              "@suskostrzewa        1085\n",
              "@laurbuzz            1835\n",
              "@AnneInVino          3685\n",
              "@gordone_cellars     4177\n",
              "@wawinereport        4966\n",
              "@JoeCz               5147\n",
              "@mattkettmann        6332\n",
              "@paulgwine           9532\n",
              "@vboone              9537\n",
              "@kerinokeefe        10776\n",
              "@wineschach         15134\n",
              "@vossroger          25514\n",
              "Name: taster_twitter_handle, dtype: int64"
            ]
          },
          "metadata": {
            "tags": []
          },
          "execution_count": 12
        }
      ]
    },
    {
      "cell_type": "code",
      "metadata": {
        "id": "ERCDAaZgYOzW",
        "colab_type": "code",
        "colab": {
          "base_uri": "https://localhost:8080/",
          "height": 136
        },
        "outputId": "7e5d2a93-afdb-4209-e9c6-4469dfa33f15"
      },
      "source": [
        "#Q2.What is the best wine I can buy for a given amount of money? \n",
        "#Create a Series whose index is wine prices and whose values is the maximum number of points a wine costing that much was given in a review. \n",
        "#Sort the values by price, ascending \n",
        "best_rating_per_price =reviews.groupby('price').points.max()\n",
        "best_rating_per_price.head(5)"
      ],
      "execution_count": null,
      "outputs": [
        {
          "output_type": "execute_result",
          "data": {
            "text/plain": [
              "price\n",
              "4.0    86\n",
              "5.0    87\n",
              "6.0    88\n",
              "7.0    91\n",
              "8.0    91\n",
              "Name: points, dtype: int64"
            ]
          },
          "metadata": {
            "tags": []
          },
          "execution_count": 13
        }
      ]
    },
    {
      "cell_type": "code",
      "metadata": {
        "id": "K-SmoTWvZPVC",
        "colab_type": "code",
        "colab": {
          "base_uri": "https://localhost:8080/",
          "height": 235
        },
        "outputId": "025bdeec-9bca-41c6-dadd-375889a4395f"
      },
      "source": [
        "#Q3.Create a DataFrame whose index is the variety category from the dataset and whose values are the min and max values thereoF.\n",
        "\n",
        "# agg(), which lets you run a bunch of different functions on your DataFrame simultaneously\n",
        "price_extremes = reviews.groupby('variety').price.agg([min, max])\n",
        "price_extremes.head(5)"
      ],
      "execution_count": null,
      "outputs": [
        {
          "output_type": "execute_result",
          "data": {
            "text/html": [
              "<div>\n",
              "<style scoped>\n",
              "    .dataframe tbody tr th:only-of-type {\n",
              "        vertical-align: middle;\n",
              "    }\n",
              "\n",
              "    .dataframe tbody tr th {\n",
              "        vertical-align: top;\n",
              "    }\n",
              "\n",
              "    .dataframe thead th {\n",
              "        text-align: right;\n",
              "    }\n",
              "</style>\n",
              "<table border=\"1\" class=\"dataframe\">\n",
              "  <thead>\n",
              "    <tr style=\"text-align: right;\">\n",
              "      <th></th>\n",
              "      <th>min</th>\n",
              "      <th>max</th>\n",
              "    </tr>\n",
              "    <tr>\n",
              "      <th>variety</th>\n",
              "      <th></th>\n",
              "      <th></th>\n",
              "    </tr>\n",
              "  </thead>\n",
              "  <tbody>\n",
              "    <tr>\n",
              "      <th>Abouriou</th>\n",
              "      <td>15.0</td>\n",
              "      <td>75.0</td>\n",
              "    </tr>\n",
              "    <tr>\n",
              "      <th>Agiorgitiko</th>\n",
              "      <td>10.0</td>\n",
              "      <td>66.0</td>\n",
              "    </tr>\n",
              "    <tr>\n",
              "      <th>Aglianico</th>\n",
              "      <td>6.0</td>\n",
              "      <td>180.0</td>\n",
              "    </tr>\n",
              "    <tr>\n",
              "      <th>Aidani</th>\n",
              "      <td>27.0</td>\n",
              "      <td>27.0</td>\n",
              "    </tr>\n",
              "    <tr>\n",
              "      <th>Airen</th>\n",
              "      <td>8.0</td>\n",
              "      <td>10.0</td>\n",
              "    </tr>\n",
              "  </tbody>\n",
              "</table>\n",
              "</div>"
            ],
            "text/plain": [
              "              min    max\n",
              "variety                 \n",
              "Abouriou     15.0   75.0\n",
              "Agiorgitiko  10.0   66.0\n",
              "Aglianico     6.0  180.0\n",
              "Aidani       27.0   27.0\n",
              "Airen         8.0   10.0"
            ]
          },
          "metadata": {
            "tags": []
          },
          "execution_count": 14
        }
      ]
    },
    {
      "cell_type": "code",
      "metadata": {
        "id": "1Ro288ESdCtX",
        "colab_type": "code",
        "colab": {
          "base_uri": "https://localhost:8080/",
          "height": 235
        },
        "outputId": "19087d7c-3b00-4abc-8596-74a77b6b4194"
      },
      "source": [
        "#Q4. Create a variable sorted_varieties containing a copy of the dataframe from the previous question where varieties are sorted \n",
        "#in descending order based on minimum price, then on maximum price (to break ties).What are the most expensive wine varieties?\n",
        "sorted_varieties = price_extremes.sort_values(by=['min', 'max'], ascending=False)\n",
        "sorted_varieties.head(5)"
      ],
      "execution_count": null,
      "outputs": [
        {
          "output_type": "execute_result",
          "data": {
            "text/html": [
              "<div>\n",
              "<style scoped>\n",
              "    .dataframe tbody tr th:only-of-type {\n",
              "        vertical-align: middle;\n",
              "    }\n",
              "\n",
              "    .dataframe tbody tr th {\n",
              "        vertical-align: top;\n",
              "    }\n",
              "\n",
              "    .dataframe thead th {\n",
              "        text-align: right;\n",
              "    }\n",
              "</style>\n",
              "<table border=\"1\" class=\"dataframe\">\n",
              "  <thead>\n",
              "    <tr style=\"text-align: right;\">\n",
              "      <th></th>\n",
              "      <th>min</th>\n",
              "      <th>max</th>\n",
              "    </tr>\n",
              "    <tr>\n",
              "      <th>variety</th>\n",
              "      <th></th>\n",
              "      <th></th>\n",
              "    </tr>\n",
              "  </thead>\n",
              "  <tbody>\n",
              "    <tr>\n",
              "      <th>Ramisco</th>\n",
              "      <td>495.0</td>\n",
              "      <td>495.0</td>\n",
              "    </tr>\n",
              "    <tr>\n",
              "      <th>Terrantez</th>\n",
              "      <td>236.0</td>\n",
              "      <td>236.0</td>\n",
              "    </tr>\n",
              "    <tr>\n",
              "      <th>Francisa</th>\n",
              "      <td>160.0</td>\n",
              "      <td>160.0</td>\n",
              "    </tr>\n",
              "    <tr>\n",
              "      <th>Rosenmuskateller</th>\n",
              "      <td>150.0</td>\n",
              "      <td>150.0</td>\n",
              "    </tr>\n",
              "    <tr>\n",
              "      <th>Tinta Negra Mole</th>\n",
              "      <td>112.0</td>\n",
              "      <td>112.0</td>\n",
              "    </tr>\n",
              "  </tbody>\n",
              "</table>\n",
              "</div>"
            ],
            "text/plain": [
              "                    min    max\n",
              "variety                       \n",
              "Ramisco           495.0  495.0\n",
              "Terrantez         236.0  236.0\n",
              "Francisa          160.0  160.0\n",
              "Rosenmuskateller  150.0  150.0\n",
              "Tinta Negra Mole  112.0  112.0"
            ]
          },
          "metadata": {
            "tags": []
          },
          "execution_count": 15
        }
      ]
    },
    {
      "cell_type": "code",
      "metadata": {
        "id": "hM7i25-Rd4rW",
        "colab_type": "code",
        "colab": {
          "base_uri": "https://localhost:8080/",
          "height": 136
        },
        "outputId": "ff1a3a42-a5a2-492b-9cbf-3b630786c239"
      },
      "source": [
        "#Q5.Create a Series whose index is reviewers and whose values is the average review score given out by that reviewer. \n",
        "#Hint: you will need the taster_name and points columns, and mean()\n",
        "reviewer_mean_ratings = reviews.groupby('taster_name').points.mean()\n",
        "reviewer_mean_ratings.head(5)\n",
        "#reviewer_mean_ratings.describe()"
      ],
      "execution_count": null,
      "outputs": [
        {
          "output_type": "execute_result",
          "data": {
            "text/plain": [
              "taster_name\n",
              "Alexander Peartree    85.855422\n",
              "Anna Lee C. Iijima    88.415629\n",
              "Anne Krebiehl MW      90.562551\n",
              "Carrie Dykes          86.395683\n",
              "Christina Pickard     87.833333\n",
              "Name: points, dtype: float64"
            ]
          },
          "metadata": {
            "tags": []
          },
          "execution_count": 16
        }
      ]
    },
    {
      "cell_type": "code",
      "metadata": {
        "id": "mzteFkwSe2dd",
        "colab_type": "code",
        "colab": {
          "base_uri": "https://localhost:8080/",
          "height": 136
        },
        "outputId": "67646865-cde6-4145-f435-00d276aa0662"
      },
      "source": [
        "#Q6.What combination of countries and varieties are most common? Create a Series whose index is a MultiIndexof {country, variety} pairs.\n",
        "#Sort the values in the Series in descending order based on wine count.\n",
        "#Hint: Use groupby(), and provide a list of columns to group by. You may also find size() and sort_values() to be useful!\n",
        "country_variety_counts = reviews.groupby(['country', 'variety']).size().sort_values(ascending=False)\n",
        "country_variety_counts.head(5)\n",
        "#The size() function is used to get an int representing the number of elements in this object.\n",
        "#Return the number of rows if Series. Otherwise return the number of rows times number of columns if DataFrame."
      ],
      "execution_count": null,
      "outputs": [
        {
          "output_type": "execute_result",
          "data": {
            "text/plain": [
              "country  variety                 \n",
              "US       Pinot Noir                  9885\n",
              "         Cabernet Sauvignon          7315\n",
              "         Chardonnay                  6801\n",
              "France   Bordeaux-style Red Blend    4725\n",
              "Italy    Red Blend                   3624\n",
              "dtype: int64"
            ]
          },
          "metadata": {
            "tags": []
          },
          "execution_count": 17
        }
      ]
    },
    {
      "cell_type": "markdown",
      "metadata": {
        "id": "8A1zvA6prsyu",
        "colab_type": "text"
      },
      "source": [
        "**Exercise: Data Types and Missing Values**"
      ]
    },
    {
      "cell_type": "code",
      "metadata": {
        "id": "K4X-HY6KrwoW",
        "colab_type": "code",
        "colab": {
          "base_uri": "https://localhost:8080/",
          "height": 34
        },
        "outputId": "80dacd31-f6b5-4928-f3d2-d52f495dc65c"
      },
      "source": [
        "#Q1. data type of the points column in the dataset\n",
        "#datatype of dataset\n",
        "reviews.describe\n",
        "reviews.points.dtype #data type for a column in a DataFrame or a Series is known as the dtype."
      ],
      "execution_count": null,
      "outputs": [
        {
          "output_type": "execute_result",
          "data": {
            "text/plain": [
              "dtype('int64')"
            ]
          },
          "metadata": {
            "tags": []
          },
          "execution_count": 18
        }
      ]
    },
    {
      "cell_type": "code",
      "metadata": {
        "id": "HYu5sS2XJOaT",
        "colab_type": "code",
        "colab": {
          "base_uri": "https://localhost:8080/",
          "height": 221
        },
        "outputId": "ae2f251e-a1eb-47f5-c2b6-2c93317f8e6a"
      },
      "source": [
        "#Q2.Series from entries in the points column, but convert the entries to strings\n",
        "point_strings=reviews.points.astype(str)\n",
        "point_strings\n",
        "#to convert a column of one type into another wherever such a conversion makes sense by using the astype()\n",
        "\n",
        "#float64 -64-bit floating point number, int64-64 bit sized integer, \n",
        "#str-columns consisting entirely of strings do not get their own type; they are instead given the object type"
      ],
      "execution_count": null,
      "outputs": [
        {
          "output_type": "execute_result",
          "data": {
            "text/plain": [
              "0         87\n",
              "1         87\n",
              "2         87\n",
              "3         87\n",
              "4         87\n",
              "          ..\n",
              "129966    90\n",
              "129967    90\n",
              "129968    90\n",
              "129969    90\n",
              "129970    90\n",
              "Name: points, Length: 129971, dtype: object"
            ]
          },
          "metadata": {
            "tags": []
          },
          "execution_count": 19
        }
      ]
    },
    {
      "cell_type": "code",
      "metadata": {
        "id": "qSBaS9GCKWcP",
        "colab_type": "code",
        "colab": {
          "base_uri": "https://localhost:8080/",
          "height": 34
        },
        "outputId": "b278f3c8-f2f0-487f-eca1-4e33c3a1fac0"
      },
      "source": [
        "#Q3.Sometimes the price column is null. How many reviews in the dataset are missing a price?\n",
        "missing_prices=reviews[reviews.price.isnull()]\n",
        "n_missing_prices=len(missing_prices)\n",
        "n_missing_prices#no. of missing prices in the dataset "
      ],
      "execution_count": null,
      "outputs": [
        {
          "output_type": "execute_result",
          "data": {
            "text/plain": [
              "8996"
            ]
          },
          "metadata": {
            "tags": []
          },
          "execution_count": 20
        }
      ]
    },
    {
      "cell_type": "code",
      "metadata": {
        "id": "6PFCDKRLLGTQ",
        "colab_type": "code",
        "colab": {
          "base_uri": "https://localhost:8080/",
          "height": 221
        },
        "outputId": "825805ca-1bfd-49cb-e74d-cbdc4a8c8f88"
      },
      "source": [
        "#Q4. Create a Series counting the number of times each value occurs in the region_1 field. This field is often missing data, so replace missing values with Unknown. Sort in descending order.\n",
        "missing_values_region_1=reviews[reviews.region_1.isnull()]\n",
        "#print(missing_values_region_1)\n",
        "reviews_per_region=reviews.region_1.fillna('Unknown').value_counts().sort_values(ascending=False)\n",
        "print(reviews_per_region)"
      ],
      "execution_count": null,
      "outputs": [
        {
          "output_type": "stream",
          "text": [
            "Unknown                           21247\n",
            "Napa Valley                        4480\n",
            "Columbia Valley (WA)               4124\n",
            "Russian River Valley               3091\n",
            "California                         2629\n",
            "                                  ...  \n",
            "Paso Robles Highlands District        1\n",
            "Monterey County-Napa County           1\n",
            "Napa Valley-Paso Robles               1\n",
            "Altos de Mendoza                      1\n",
            "Burgundy                              1\n",
            "Name: region_1, Length: 1230, dtype: int64\n"
          ],
          "name": "stdout"
        }
      ]
    },
    {
      "cell_type": "code",
      "metadata": {
        "id": "NkwRc6wHNSow",
        "colab_type": "code",
        "colab": {
          "base_uri": "https://localhost:8080/",
          "height": 289
        },
        "outputId": "18f939b7-2e28-47ca-cd6f-eb0d4918e010"
      },
      "source": [
        "#Alternatively, we may have a non-null value that we would like to replace. For example, suppose that since this dataset was published, \n",
        "#reviewer Kerin O'Keefe has changed her Twitter handle from @kerinokeefe to @kerino. \n",
        "#One way to reflect this in the dataset is using the replace() method\n",
        "rename_handle=reviews.taster_twitter_handle.replace(\"@kerinokeefe\",\"@kerino\").value_counts().sort_values(ascending=True)\n",
        "rename_handle"
      ],
      "execution_count": null,
      "outputs": [
        {
          "output_type": "execute_result",
          "data": {
            "text/plain": [
              "@winewchristina         6\n",
              "@bkfiona               27\n",
              "@worldwineguys       1005\n",
              "@suskostrzewa        1085\n",
              "@laurbuzz            1835\n",
              "@AnneInVino          3685\n",
              "@gordone_cellars     4177\n",
              "@wawinereport        4966\n",
              "@JoeCz               5147\n",
              "@mattkettmann        6332\n",
              "@paulgwine           9532\n",
              "@vboone              9537\n",
              "@kerino             10776\n",
              "@wineschach         15134\n",
              "@vossroger          25514\n",
              "Name: taster_twitter_handle, dtype: int64"
            ]
          },
          "metadata": {
            "tags": []
          },
          "execution_count": 22
        }
      ]
    },
    {
      "cell_type": "markdown",
      "metadata": {
        "id": "IRib4WqeOxlY",
        "colab_type": "text"
      },
      "source": [
        "**Exercise: Renaming and Combining**"
      ]
    },
    {
      "cell_type": "code",
      "metadata": {
        "id": "Dv37ibsWO5vG",
        "colab_type": "code",
        "colab": {
          "base_uri": "https://localhost:8080/",
          "height": 301
        },
        "outputId": "66cd4e6f-9260-4f63-b272-23e9e352f9c6"
      },
      "source": [
        "#Q1.rename columns region_1 and region_2 to region and locale, respectively\n",
        "renamed=reviews.rename(columns={'region_1':'region', 'region_2':'locale'})\n",
        "renamed.head(2)"
      ],
      "execution_count": null,
      "outputs": [
        {
          "output_type": "execute_result",
          "data": {
            "text/html": [
              "<div>\n",
              "<style scoped>\n",
              "    .dataframe tbody tr th:only-of-type {\n",
              "        vertical-align: middle;\n",
              "    }\n",
              "\n",
              "    .dataframe tbody tr th {\n",
              "        vertical-align: top;\n",
              "    }\n",
              "\n",
              "    .dataframe thead th {\n",
              "        text-align: right;\n",
              "    }\n",
              "</style>\n",
              "<table border=\"1\" class=\"dataframe\">\n",
              "  <thead>\n",
              "    <tr style=\"text-align: right;\">\n",
              "      <th></th>\n",
              "      <th>country</th>\n",
              "      <th>description</th>\n",
              "      <th>designation</th>\n",
              "      <th>points</th>\n",
              "      <th>price</th>\n",
              "      <th>province</th>\n",
              "      <th>region</th>\n",
              "      <th>locale</th>\n",
              "      <th>taster_name</th>\n",
              "      <th>taster_twitter_handle</th>\n",
              "      <th>title</th>\n",
              "      <th>variety</th>\n",
              "      <th>winery</th>\n",
              "      <th>points_to_price_ratio</th>\n",
              "      <th>star_ratings</th>\n",
              "    </tr>\n",
              "  </thead>\n",
              "  <tbody>\n",
              "    <tr>\n",
              "      <th>0</th>\n",
              "      <td>Italy</td>\n",
              "      <td>Aromas include tropical fruit, broom, brimston...</td>\n",
              "      <td>Vulkà Bianco</td>\n",
              "      <td>87</td>\n",
              "      <td>NaN</td>\n",
              "      <td>Sicily &amp; Sardinia</td>\n",
              "      <td>Etna</td>\n",
              "      <td>NaN</td>\n",
              "      <td>Kerin O’Keefe</td>\n",
              "      <td>@kerinokeefe</td>\n",
              "      <td>Nicosia 2013 Vulkà Bianco  (Etna)</td>\n",
              "      <td>White Blend</td>\n",
              "      <td>Nicosia</td>\n",
              "      <td>NaN</td>\n",
              "      <td>2</td>\n",
              "    </tr>\n",
              "    <tr>\n",
              "      <th>1</th>\n",
              "      <td>Portugal</td>\n",
              "      <td>This is ripe and fruity, a wine that is smooth...</td>\n",
              "      <td>Avidagos</td>\n",
              "      <td>87</td>\n",
              "      <td>15.0</td>\n",
              "      <td>Douro</td>\n",
              "      <td>NaN</td>\n",
              "      <td>NaN</td>\n",
              "      <td>Roger Voss</td>\n",
              "      <td>@vossroger</td>\n",
              "      <td>Quinta dos Avidagos 2011 Avidagos Red (Douro)</td>\n",
              "      <td>Portuguese Red</td>\n",
              "      <td>Quinta dos Avidagos</td>\n",
              "      <td>5.8</td>\n",
              "      <td>2</td>\n",
              "    </tr>\n",
              "  </tbody>\n",
              "</table>\n",
              "</div>"
            ],
            "text/plain": [
              "    country  ... star_ratings\n",
              "0     Italy  ...            2\n",
              "1  Portugal  ...            2\n",
              "\n",
              "[2 rows x 15 columns]"
            ]
          },
          "metadata": {
            "tags": []
          },
          "execution_count": 23
        }
      ]
    },
    {
      "cell_type": "code",
      "metadata": {
        "id": "GGcapYppTcVr",
        "colab_type": "code",
        "colab": {
          "base_uri": "https://localhost:8080/",
          "height": 185
        },
        "outputId": "9947cf1e-1b6e-45a9-856f-25420385f64b"
      },
      "source": [
        "#Q2. Set the index name in the dataset to wines\n",
        "reindexed = reviews.rename_axis('wine nos.', axis='columns')#renaming the index column as 'wines'\n",
        "reindexed.head(1)"
      ],
      "execution_count": null,
      "outputs": [
        {
          "output_type": "execute_result",
          "data": {
            "text/html": [
              "<div>\n",
              "<style scoped>\n",
              "    .dataframe tbody tr th:only-of-type {\n",
              "        vertical-align: middle;\n",
              "    }\n",
              "\n",
              "    .dataframe tbody tr th {\n",
              "        vertical-align: top;\n",
              "    }\n",
              "\n",
              "    .dataframe thead th {\n",
              "        text-align: right;\n",
              "    }\n",
              "</style>\n",
              "<table border=\"1\" class=\"dataframe\">\n",
              "  <thead>\n",
              "    <tr style=\"text-align: right;\">\n",
              "      <th>wine nos.</th>\n",
              "      <th>country</th>\n",
              "      <th>description</th>\n",
              "      <th>designation</th>\n",
              "      <th>points</th>\n",
              "      <th>price</th>\n",
              "      <th>province</th>\n",
              "      <th>region_1</th>\n",
              "      <th>region_2</th>\n",
              "      <th>taster_name</th>\n",
              "      <th>taster_twitter_handle</th>\n",
              "      <th>title</th>\n",
              "      <th>variety</th>\n",
              "      <th>winery</th>\n",
              "      <th>points_to_price_ratio</th>\n",
              "      <th>star_ratings</th>\n",
              "    </tr>\n",
              "  </thead>\n",
              "  <tbody>\n",
              "    <tr>\n",
              "      <th>0</th>\n",
              "      <td>Italy</td>\n",
              "      <td>Aromas include tropical fruit, broom, brimston...</td>\n",
              "      <td>Vulkà Bianco</td>\n",
              "      <td>87</td>\n",
              "      <td>NaN</td>\n",
              "      <td>Sicily &amp; Sardinia</td>\n",
              "      <td>Etna</td>\n",
              "      <td>NaN</td>\n",
              "      <td>Kerin O’Keefe</td>\n",
              "      <td>@kerinokeefe</td>\n",
              "      <td>Nicosia 2013 Vulkà Bianco  (Etna)</td>\n",
              "      <td>White Blend</td>\n",
              "      <td>Nicosia</td>\n",
              "      <td>NaN</td>\n",
              "      <td>2</td>\n",
              "    </tr>\n",
              "  </tbody>\n",
              "</table>\n",
              "</div>"
            ],
            "text/plain": [
              "wine nos. country  ... star_ratings\n",
              "0           Italy  ...            2\n",
              "\n",
              "[1 rows x 15 columns]"
            ]
          },
          "metadata": {
            "tags": []
          },
          "execution_count": 24
        }
      ]
    },
    {
      "cell_type": "code",
      "metadata": {
        "id": "tnau62l4U_PE",
        "colab_type": "code",
        "colab": {
          "base_uri": "https://localhost:8080/",
          "height": 187
        },
        "outputId": "1bc0e939-b9fd-49ee-dd24-f5c229589c42"
      },
      "source": [
        "#Pandas has three core methods for doing this. In order of increasing complexity, these are concat(), join(), and merge(). \n",
        "#Most of what merge() can do can also be done more simply with join()\n",
        "\n",
        "# combining 2 datasets\n",
        "#combined_=pd.concat([name of dataset 1, name of dataset 2]) #datasets are combined without any  \n",
        "\n",
        "#example\n",
        "s1 = pd.Series(['a', 'b'])\n",
        "s2 = pd.Series(['c', 'd'])\n",
        "print(pd.concat([s1, s2]))\n",
        "#ignore index\n",
        "print(pd.concat([s1, s2], ignore_index=True))"
      ],
      "execution_count": null,
      "outputs": [
        {
          "output_type": "stream",
          "text": [
            "0    a\n",
            "1    b\n",
            "0    c\n",
            "1    d\n",
            "dtype: object\n",
            "0    a\n",
            "1    b\n",
            "2    c\n",
            "3    d\n",
            "dtype: object\n"
          ],
          "name": "stdout"
        }
      ]
    },
    {
      "cell_type": "code",
      "metadata": {
        "id": "-0KycQ9nWwFH",
        "colab_type": "code",
        "colab": {
          "base_uri": "https://localhost:8080/",
          "height": 408
        },
        "outputId": "33eb5895-9f0f-499b-bf90-af59111ee123"
      },
      "source": [
        "#join() lets you combine different DataFrame objects which have an index in common.\n",
        "#The lsuffix and rsuffix parameters are necessary here because the data has the same column names in both dstasets.\n",
        "\n",
        "#example\n",
        "df1 = pd.DataFrame({'lkey': ['foo', 'bar', 'baz', 'foo'],\n",
        "                    'value': [1, 2, 3, 5]})\n",
        "df2 = pd.DataFrame({'rkey': ['foo', 'bar', 'baz', 'foo'],\n",
        "                    'value': [5, 6, 7, 8]})\n",
        "print(df1)\n",
        "print(df2)\n",
        "df3=df1.set_index('value').join(df2.set_index('value'))\n",
        "print(df3)\n",
        "\n",
        "#merging\n",
        "df4=df1.merge(df2, left_on='lkey', right_on='rkey')\n",
        "df4=df4.rename(columns={'value_x':'value_ikey', 'value_y':'value_rkey'}).rename_axis('index_no', axis='columns')\n",
        "print(df4)\n",
        "\n",
        "#refer more from Halliburton merge/join"
      ],
      "execution_count": null,
      "outputs": [
        {
          "output_type": "stream",
          "text": [
            "  lkey  value\n",
            "0  foo      1\n",
            "1  bar      2\n",
            "2  baz      3\n",
            "3  foo      5\n",
            "  rkey  value\n",
            "0  foo      5\n",
            "1  bar      6\n",
            "2  baz      7\n",
            "3  foo      8\n",
            "      lkey rkey\n",
            "value          \n",
            "1      foo  NaN\n",
            "2      bar  NaN\n",
            "3      baz  NaN\n",
            "5      foo  foo\n",
            "index_no lkey  value_ikey rkey  value_rkey\n",
            "0         foo           1  foo           5\n",
            "1         foo           1  foo           8\n",
            "2         foo           5  foo           5\n",
            "3         foo           5  foo           8\n",
            "4         bar           2  bar           6\n",
            "5         baz           3  baz           7\n"
          ],
          "name": "stdout"
        }
      ]
    }
  ]
}