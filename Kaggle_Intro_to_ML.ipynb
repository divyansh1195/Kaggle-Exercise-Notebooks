{
  "nbformat": 4,
  "nbformat_minor": 0,
  "metadata": {
    "colab": {
      "name": "Kaggle Intro to ML.ipynb",
      "provenance": [],
      "collapsed_sections": [],
      "authorship_tag": "ABX9TyOMUV8dd+/gN6BHKX6iSWy/",
      "include_colab_link": true
    },
    "kernelspec": {
      "name": "python3",
      "display_name": "Python 3"
    }
  },
  "cells": [
    {
      "cell_type": "markdown",
      "metadata": {
        "id": "view-in-github",
        "colab_type": "text"
      },
      "source": [
        "<a href=\"https://colab.research.google.com/github/divyansh1195/Kaggle-ML-Exercise-Notebooks/blob/master/Kaggle_Intro_to_ML.ipynb\" target=\"_parent\"><img src=\"https://colab.research.google.com/assets/colab-badge.svg\" alt=\"Open In Colab\"/></a>"
      ]
    },
    {
      "cell_type": "markdown",
      "metadata": {
        "id": "CvpUQkNrCJZn",
        "colab_type": "text"
      },
      "source": [
        "**ML Models : \n",
        "Decision Tree and Random Forest**"
      ]
    },
    {
      "cell_type": "code",
      "metadata": {
        "id": "BRM4T9JoI46N",
        "colab_type": "code",
        "colab": {
          "base_uri": "https://localhost:8080/",
          "height": 71
        },
        "outputId": "73bad4ac-660b-4de7-95bc-00f1e429cdb7"
      },
      "source": [
        "import pandas as pd\n",
        "import numpy as np\n",
        "import matplotlib.pyplot as plt\n",
        "import tensorflow as tf\n",
        "import seaborn as sns"
      ],
      "execution_count": null,
      "outputs": [
        {
          "output_type": "stream",
          "text": [
            "/usr/local/lib/python3.6/dist-packages/statsmodels/tools/_testing.py:19: FutureWarning: pandas.util.testing is deprecated. Use the functions in the public API at pandas.testing instead.\n",
            "  import pandas.util.testing as tm\n"
          ],
          "name": "stderr"
        }
      ]
    },
    {
      "cell_type": "code",
      "metadata": {
        "id": "qtxnRlntJNMG",
        "colab_type": "code",
        "colab": {
          "base_uri": "https://localhost:8080/",
          "height": 323
        },
        "outputId": "0ceb6468-1820-449e-99bc-b979a65c00c8"
      },
      "source": [
        "#loading the dataset\n",
        "home_data = pd.read_csv('train.csv')\n",
        "home_data.columns #gives columns in teh dataset "
      ],
      "execution_count": null,
      "outputs": [
        {
          "output_type": "execute_result",
          "data": {
            "text/plain": [
              "Index(['Id', 'MSSubClass', 'MSZoning', 'LotFrontage', 'LotArea', 'Street',\n",
              "       'Alley', 'LotShape', 'LandContour', 'Utilities', 'LotConfig',\n",
              "       'LandSlope', 'Neighborhood', 'Condition1', 'Condition2', 'BldgType',\n",
              "       'HouseStyle', 'OverallQual', 'OverallCond', 'YearBuilt', 'YearRemodAdd',\n",
              "       'RoofStyle', 'RoofMatl', 'Exterior1st', 'Exterior2nd', 'MasVnrType',\n",
              "       'MasVnrArea', 'ExterQual', 'ExterCond', 'Foundation', 'BsmtQual',\n",
              "       'BsmtCond', 'BsmtExposure', 'BsmtFinType1', 'BsmtFinSF1',\n",
              "       'BsmtFinType2', 'BsmtFinSF2', 'BsmtUnfSF', 'TotalBsmtSF', 'Heating',\n",
              "       'HeatingQC', 'CentralAir', 'Electrical', '1stFlrSF', '2ndFlrSF',\n",
              "       'LowQualFinSF', 'GrLivArea', 'BsmtFullBath', 'BsmtHalfBath', 'FullBath',\n",
              "       'HalfBath', 'BedroomAbvGr', 'KitchenAbvGr', 'KitchenQual',\n",
              "       'TotRmsAbvGrd', 'Functional', 'Fireplaces', 'FireplaceQu', 'GarageType',\n",
              "       'GarageYrBlt', 'GarageFinish', 'GarageCars', 'GarageArea', 'GarageQual',\n",
              "       'GarageCond', 'PavedDrive', 'WoodDeckSF', 'OpenPorchSF',\n",
              "       'EnclosedPorch', '3SsnPorch', 'ScreenPorch', 'PoolArea', 'PoolQC',\n",
              "       'Fence', 'MiscFeature', 'MiscVal', 'MoSold', 'YrSold', 'SaleType',\n",
              "       'SaleCondition', 'SalePrice'],\n",
              "      dtype='object')"
            ]
          },
          "metadata": {
            "tags": []
          },
          "execution_count": 2
        }
      ]
    },
    {
      "cell_type": "code",
      "metadata": {
        "id": "WsLSbeUNJrou",
        "colab_type": "code",
        "colab": {
          "base_uri": "https://localhost:8080/",
          "height": 153
        },
        "outputId": "1e50268c-5a40-46ad-ce22-c1fb2b721c24"
      },
      "source": [
        "y = home_data.SalePrice.values\n",
        "feature_columns = ['LotArea', 'YearBuilt', '1stFlrSF', '2ndFlrSF', 'FullBath', 'BedroomAbvGr', 'TotRmsAbvGrd']\n",
        "X = home_data[feature_columns].values\n",
        "print(X)\n",
        "print(y)"
      ],
      "execution_count": null,
      "outputs": [
        {
          "output_type": "stream",
          "text": [
            "[[ 8450  2003   856 ...     2     3     8]\n",
            " [ 9600  1976  1262 ...     2     3     6]\n",
            " [11250  2001   920 ...     2     3     6]\n",
            " ...\n",
            " [ 9042  1941  1188 ...     2     4     9]\n",
            " [ 9717  1950  1078 ...     1     2     5]\n",
            " [ 9937  1965  1256 ...     1     3     6]]\n",
            "[208500 181500 223500 ... 266500 142125 147500]\n"
          ],
          "name": "stdout"
        }
      ]
    },
    {
      "cell_type": "markdown",
      "metadata": {
        "id": "Q6-WYeXsjkKc",
        "colab_type": "text"
      },
      "source": [
        "**DECISION TREE REGRESSOR**"
      ]
    },
    {
      "cell_type": "code",
      "metadata": {
        "id": "CEUfkdrSJ01y",
        "colab_type": "code",
        "colab": {
          "base_uri": "https://localhost:8080/",
          "height": 136
        },
        "outputId": "b84bf288-2418-479c-8d2c-06c6f9a98dda"
      },
      "source": [
        "from sklearn.tree import DecisionTreeRegressor\n",
        "iowa_model = DecisionTreeRegressor(random_state=0)\n",
        "iowa_model.fit(X, y)\n",
        "predictions=iowa_model.predict(X)\n",
        "np.set_printoptions(precision=2)\n",
        "print(np.concatenate((predictions.reshape(len(predictions),1), y.reshape(len(y),1)),1))"
      ],
      "execution_count": null,
      "outputs": [
        {
          "output_type": "stream",
          "text": [
            "[[208500. 208500.]\n",
            " [181500. 181500.]\n",
            " [223500. 223500.]\n",
            " ...\n",
            " [266500. 266500.]\n",
            " [142125. 142125.]\n",
            " [147500. 147500.]]\n"
          ],
          "name": "stdout"
        }
      ]
    },
    {
      "cell_type": "markdown",
      "metadata": {
        "id": "PplzZT9dX9L6",
        "colab_type": "text"
      },
      "source": [
        "**Model Validation**"
      ]
    },
    {
      "cell_type": "markdown",
      "metadata": {
        "id": "0K10BxnJ1Uk8",
        "colab_type": "text"
      },
      "source": [
        "Insample Mean Absolute error is wrong!!!"
      ]
    },
    {
      "cell_type": "code",
      "metadata": {
        "id": "RFWAxjP7zWuV",
        "colab_type": "code",
        "colab": {
          "base_uri": "https://localhost:8080/",
          "height": 34
        },
        "outputId": "2415a1f0-dd02-4845-c960-ff4d49594d0f"
      },
      "source": [
        "#Calculate the Mean Absolute Error in  In-Sample Data\n",
        "from sklearn.metrics import mean_absolute_error\n",
        "val_mae_insample = mean_absolute_error(y,predictions)\n",
        "print(val_mae_insample)"
      ],
      "execution_count": null,
      "outputs": [
        {
          "output_type": "stream",
          "text": [
            "62.35433789954339\n"
          ],
          "name": "stdout"
        }
      ]
    },
    {
      "cell_type": "markdown",
      "metadata": {
        "id": "soOrZBGj0glm",
        "colab_type": "text"
      },
      "source": [
        "Since models' practical value come from making predictions on new data, we measure performance on data that wasn't used to build the model. The most straightforward way to do this is to exclude some data from the model-building process, and then use those to test the model's accuracy on data it hasn't seen before. This data is called validation data i.e. splitting the data into training set and test set."
      ]
    },
    {
      "cell_type": "markdown",
      "metadata": {
        "id": "2pTmlAM01fq4",
        "colab_type": "text"
      },
      "source": [
        "Model validation"
      ]
    },
    {
      "cell_type": "code",
      "metadata": {
        "id": "R7qf7LXUYAk5",
        "colab_type": "code",
        "colab": {
          "base_uri": "https://localhost:8080/",
          "height": 1000
        },
        "outputId": "87e32409-53bb-4e78-a6ce-43bc2047380b"
      },
      "source": [
        "# Import the train_test_split function and uncomment\n",
        "from sklearn.model_selection import train_test_split\n",
        "X_train, X_test, y_train, y_test = train_test_split(X,y, test_size=0.2, random_state=1)\n",
        "# Specify the model\n",
        "model_iowa = DecisionTreeRegressor(random_state=1)\n",
        "\n",
        "# Fit iowa_model with the training data.\n",
        "model_iowa.fit(X_train, y_train)\n",
        "\n",
        "# Predict with all X_test observations\n",
        "y_pred = model_iowa.predict(X_test)\n",
        "\n",
        "#Inspect your predictions and actual values from the housing data\n",
        "np.set_printoptions(precision=2)\n",
        "#print(y_test)\n",
        "#print(y_pred)\n",
        "\n",
        "#comapre y_pred and y_test values\n",
        "print(np.concatenate((y_pred.reshape(len(y_pred),1), y_test.reshape(len(y_test),1)),1))"
      ],
      "execution_count": null,
      "outputs": [
        {
          "output_type": "stream",
          "text": [
            "[[195000. 231500.]\n",
            " [108000. 179500.]\n",
            " [130000. 122000.]\n",
            " [ 81000.  84500.]\n",
            " [177000. 142000.]\n",
            " [235128. 325624.]\n",
            " [333168. 285000.]\n",
            " [144152. 151000.]\n",
            " [215000. 195000.]\n",
            " [179200. 275000.]\n",
            " [182900. 175000.]\n",
            " [ 99900.  61000.]\n",
            " [192500. 174000.]\n",
            " [242000. 385000.]\n",
            " [278000. 230000.]\n",
            " [100000.  87000.]\n",
            " [138500. 125000.]\n",
            " [139950.  98600.]\n",
            " [194000. 260000.]\n",
            " [156000. 143000.]\n",
            " [150500. 124000.]\n",
            " [325000. 122500.]\n",
            " [270000. 236500.]\n",
            " [377500. 337500.]\n",
            " [134900.  76000.]\n",
            " [140000. 187000.]\n",
            " [119500. 128000.]\n",
            " [192000. 179000.]\n",
            " [582933. 485000.]\n",
            " [148500. 122500.]\n",
            " [140000. 106000.]\n",
            " [ 91500. 118000.]\n",
            " [112500. 127000.]\n",
            " [ 82500.  80000.]\n",
            " [123000. 153000.]\n",
            " [386250. 360000.]\n",
            " [110000. 132000.]\n",
            " [ 99900.  85500.]\n",
            " [305000. 262280.]\n",
            " [ 84000. 112000.]\n",
            " [125000. 131000.]\n",
            " [134450. 139000.]\n",
            " [110000.  87000.]\n",
            " [100000. 135000.]\n",
            " [168000. 181000.]\n",
            " [150900. 163500.]\n",
            " [ 88000. 116900.]\n",
            " [176485. 159895.]\n",
            " [225000. 244600.]\n",
            " [235000. 294000.]\n",
            " [132000.  97000.]\n",
            " [475000. 295000.]\n",
            " [110000. 120500.]\n",
            " [240000. 239500.]\n",
            " [199900. 194000.]\n",
            " [100000. 115000.]\n",
            " [128500. 119500.]\n",
            " [160000. 180000.]\n",
            " [108000. 118000.]\n",
            " [168000. 178000.]\n",
            " [165000. 167000.]\n",
            " [342643. 267000.]\n",
            " [119000.  82000.]\n",
            " [124900. 133900.]\n",
            " [165000. 167000.]\n",
            " [134500. 132500.]\n",
            " [122000. 135000.]\n",
            " [226000. 248000.]\n",
            " [175000. 160000.]\n",
            " [156500. 144500.]\n",
            " [129000. 200500.]\n",
            " [103600. 113000.]\n",
            " [325000. 354000.]\n",
            " [108000. 164000.]\n",
            " [139400. 170000.]\n",
            " [208900. 224000.]\n",
            " [168500. 163900.]\n",
            " [105000. 160000.]\n",
            " [305900. 466500.]\n",
            " [193879. 172500.]\n",
            " [250000. 193500.]\n",
            " [145000. 133000.]\n",
            " [131000. 137000.]\n",
            " [162000. 167500.]\n",
            " [173000. 196500.]\n",
            " [140000. 146000.]\n",
            " [155000. 159500.]\n",
            " [187500. 158000.]\n",
            " [194500. 189000.]\n",
            " [137000. 172500.]\n",
            " [206300. 194201.]\n",
            " [157000. 181000.]\n",
            " [116050. 115000.]\n",
            " [160000. 101800.]\n",
            " [125000. 100000.]\n",
            " [114504. 139000.]\n",
            " [138500. 115000.]\n",
            " [163000. 139000.]\n",
            " [148500. 156000.]\n",
            " [164500. 158000.]\n",
            " [277000. 172000.]\n",
            " [130500. 138000.]\n",
            " [128000. 125500.]\n",
            " [120500. 123000.]\n",
            " [119000. 134500.]\n",
            " [106250. 163000.]\n",
            " [164990. 169990.]\n",
            " [124000. 140000.]\n",
            " [160000. 140000.]\n",
            " [341000. 325000.]\n",
            " [189950. 157500.]\n",
            " [129500. 225000.]\n",
            " [148000. 107000.]\n",
            " [185850. 185500.]\n",
            " [226700. 239900.]\n",
            " [176000. 163990.]\n",
            " [204900. 201000.]\n",
            " [119900. 127000.]\n",
            " [277000. 172500.]\n",
            " [202500. 228000.]\n",
            " [179900. 117000.]\n",
            " [279500. 232600.]\n",
            " [250000. 403000.]\n",
            " [135000. 169500.]\n",
            " [299800. 151400.]\n",
            " [175000. 180000.]\n",
            " [395192. 370878.]\n",
            " [109900.  55993.]\n",
            " [151000. 207500.]\n",
            " [212000. 224500.]\n",
            " [275500. 280000.]\n",
            " [100000.  82000.]\n",
            " [119200. 137000.]\n",
            " [ 84000. 130500.]\n",
            " [ 98000.  73000.]\n",
            " [191000. 217000.]\n",
            " [755000. 625000.]\n",
            " [245350. 367294.]\n",
            " [200000. 230000.]\n",
            " [120000. 142000.]\n",
            " [189950. 115000.]\n",
            " [260000. 272000.]\n",
            " [166000. 176500.]\n",
            " [192500. 234000.]\n",
            " [147000.  40000.]\n",
            " [252678. 213500.]\n",
            " [100000. 126000.]\n",
            " [245500. 187100.]\n",
            " [214000. 200000.]\n",
            " [132500. 117500.]\n",
            " [179200. 176000.]\n",
            " [189000. 174000.]\n",
            " [129500.  97000.]\n",
            " [181000. 169000.]\n",
            " [173000. 154000.]\n",
            " [325000. 361919.]\n",
            " [ 67000.  85000.]\n",
            " [185750. 134000.]\n",
            " [ 67000.  96500.]\n",
            " [147000. 127000.]\n",
            " [120500.  60000.]\n",
            " [ 67000. 108480.]\n",
            " [140000. 151000.]\n",
            " [144000. 135000.]\n",
            " [156000.  99500.]\n",
            " [139000. 124000.]\n",
            " [177000. 177500.]\n",
            " [175000. 144000.]\n",
            " [180500. 119000.]\n",
            " [189950. 107500.]\n",
            " [225000. 254900.]\n",
            " [168000. 180500.]\n",
            " [225000. 222000.]\n",
            " [386250. 271000.]\n",
            " [201000. 181000.]\n",
            " [134900. 140000.]\n",
            " [200000. 158000.]\n",
            " [236000. 204750.]\n",
            " [141000. 135000.]\n",
            " [168500. 161500.]\n",
            " [118500. 128500.]\n",
            " [156932. 179540.]\n",
            " [168000. 143000.]\n",
            " [132500. 147000.]\n",
            " [319000. 280000.]\n",
            " [154000. 131500.]\n",
            " [402861. 253293.]\n",
            " [336000. 317000.]\n",
            " [147000. 210000.]\n",
            " [127500. 120000.]\n",
            " [129500. 110000.]\n",
            " [145000. 127000.]\n",
            " [ 89500. 106000.]\n",
            " [132500. 172500.]\n",
            " [137500. 166000.]\n",
            " [335000. 258000.]\n",
            " [284000. 213000.]\n",
            " [155000. 150000.]\n",
            " [168000. 158500.]\n",
            " [ 79900.  82500.]\n",
            " [185000. 212000.]\n",
            " [225000. 238000.]\n",
            " [182900. 158000.]\n",
            " [168000. 178000.]\n",
            " [319900. 328900.]\n",
            " [120000. 110000.]\n",
            " [190000. 185000.]\n",
            " [340000. 320000.]\n",
            " [266500. 315000.]\n",
            " [280000. 228950.]\n",
            " [195000. 180000.]\n",
            " [110500. 117000.]\n",
            " [174000. 176000.]\n",
            " [142500. 111250.]\n",
            " [306000. 297000.]\n",
            " [253000. 266000.]\n",
            " [110000. 130000.]\n",
            " [ 92900.  93500.]\n",
            " [170000. 186700.]\n",
            " [ 35311.  91000.]\n",
            " [755000. 745000.]\n",
            " [124500.  62383.]\n",
            " [183900. 172500.]\n",
            " [200000. 170000.]\n",
            " [102776. 119000.]\n",
            " [124500. 129900.]\n",
            " [215200. 210000.]\n",
            " [181000. 173000.]\n",
            " [173733. 164500.]\n",
            " [160000. 170000.]\n",
            " [127000. 125500.]\n",
            " [173000. 183000.]\n",
            " [ 98000. 103000.]\n",
            " [145000. 141500.]\n",
            " [245000. 315500.]\n",
            " [118964. 118858.]\n",
            " [250000. 290000.]\n",
            " [116000. 119000.]\n",
            " [118000. 104900.]\n",
            " [315750. 348000.]\n",
            " [236500. 374000.]\n",
            " [169500. 200100.]\n",
            " [141000. 132250.]\n",
            " [154300. 161500.]\n",
            " [139000. 131500.]\n",
            " [118500. 104000.]\n",
            " [160000. 132500.]\n",
            " [205000. 133000.]\n",
            " [205000. 170000.]\n",
            " [ 97500. 180000.]\n",
            " [138500. 130000.]\n",
            " [ 72500. 125000.]\n",
            " [173500. 186500.]\n",
            " [167900. 171500.]\n",
            " [169000. 100000.]\n",
            " [120500. 114500.]\n",
            " [173000. 173000.]\n",
            " [ 84500.  86000.]\n",
            " [377426. 320000.]\n",
            " [137500. 133000.]\n",
            " [203000. 220000.]\n",
            " [159500. 137900.]\n",
            " [208500. 224900.]\n",
            " [189000. 153500.]\n",
            " [124000. 115000.]\n",
            " [174000. 207500.]\n",
            " [ 97500. 113000.]\n",
            " [ 82500. 178400.]\n",
            " [174900. 140000.]\n",
            " [100000.  83000.]\n",
            " [179900. 197000.]\n",
            " [185000. 187500.]\n",
            " [101000.  81000.]\n",
            " [118500.  93500.]\n",
            " [139000. 197500.]\n",
            " [108000.  93000.]\n",
            " [112000. 106000.]\n",
            " [142500. 144000.]\n",
            " [250000. 220000.]\n",
            " [127000. 144900.]\n",
            " [106250. 139000.]\n",
            " [126500. 132000.]\n",
            " [145000. 149000.]\n",
            " [156000. 153500.]\n",
            " [269500. 263435.]\n",
            " [259000. 205000.]\n",
            " [108000. 132500.]\n",
            " [129900. 103200.]\n",
            " [278000. 249700.]\n",
            " [128000.  64500.]\n",
            " [108500.  83000.]\n",
            " [250000. 339750.]]\n"
          ],
          "name": "stdout"
        }
      ]
    },
    {
      "cell_type": "code",
      "metadata": {
        "id": "cIEcKW6caa_Y",
        "colab_type": "code",
        "colab": {
          "base_uri": "https://localhost:8080/",
          "height": 34
        },
        "outputId": "d801ba09-779b-4d32-984e-24edfdbc285f"
      },
      "source": [
        "#Calculate the Mean Absolute Error in Data\n",
        "from sklearn.metrics import mean_absolute_error\n",
        "val_mae = mean_absolute_error(y_test, y_pred)\n",
        "print(\"Validation MAE($): {:,.0f}\".format(val_mae))"
      ],
      "execution_count": null,
      "outputs": [
        {
          "output_type": "stream",
          "text": [
            "Validation MAE($): 30,643\n"
          ],
          "name": "stdout"
        }
      ]
    },
    {
      "cell_type": "markdown",
      "metadata": {
        "id": "jO3LfM12oWNg",
        "colab_type": "text"
      },
      "source": [
        "**Underfitting and Overfitting**"
      ]
    },
    {
      "cell_type": "markdown",
      "metadata": {
        "id": "gUOGmaZBpV78",
        "colab_type": "text"
      },
      "source": [
        "Overfitting: capturing spurious patterns that won't recur in the future, leading to less accurate predictions \n",
        "\n",
        "Underfitting: failing to capture relevant patterns, again leading to less accurate predictions.\n",
        "\n",
        "We use validation data, which isn't used in model training, to measure a candidate model's accuracy. This lets us try many candidate models and keep the best one."
      ]
    },
    {
      "cell_type": "code",
      "metadata": {
        "id": "yKu-dvFpoaGm",
        "colab_type": "code",
        "colab": {
          "base_uri": "https://localhost:8080/",
          "height": 170
        },
        "outputId": "0e390419-817b-482a-eb71-8c6b57b9909d"
      },
      "source": [
        "def get_mae(max_leaf_nodes, X_train, X_test, y_train, y_test):\n",
        "    model = DecisionTreeRegressor(max_leaf_nodes=max_leaf_nodes, random_state=0)\n",
        "    model.fit(X_train, y_train)\n",
        "    y_pred = model.predict(X_test)\n",
        "    mae = mean_absolute_error(y_test, y_pred)\n",
        "    return(mae)\n",
        "candidate_max_leaf_nodes = [5, 25, 50, 100, 250, 500, 750, 1000, 1500]\n",
        "for max_leaf_nodes in candidate_max_leaf_nodes:\n",
        "  best_mae = get_mae(max_leaf_nodes,X_train, X_test, y_train, y_test)\n",
        "  print(\"Max leaf nodes: %d  \\t\\t Mean Absolute Error:  %d\" %(max_leaf_nodes, best_mae))"
      ],
      "execution_count": null,
      "outputs": [
        {
          "output_type": "stream",
          "text": [
            "Max leaf nodes: 5  \t\t Mean Absolute Error:  35436\n",
            "Max leaf nodes: 25  \t\t Mean Absolute Error:  29324\n",
            "Max leaf nodes: 50  \t\t Mean Absolute Error:  28003\n",
            "Max leaf nodes: 100  \t\t Mean Absolute Error:  27803\n",
            "Max leaf nodes: 250  \t\t Mean Absolute Error:  29711\n",
            "Max leaf nodes: 500  \t\t Mean Absolute Error:  30400\n",
            "Max leaf nodes: 750  \t\t Mean Absolute Error:  30867\n",
            "Max leaf nodes: 1000  \t\t Mean Absolute Error:  30990\n",
            "Max leaf nodes: 1500  \t\t Mean Absolute Error:  30966\n"
          ],
          "name": "stdout"
        }
      ]
    },
    {
      "cell_type": "markdown",
      "metadata": {
        "id": "M9L7B8hwvini",
        "colab_type": "text"
      },
      "source": [
        "We know the best tree size. If we are going to deploy this model in practice, we would make it even more accurate by using all of the data and keeping that tree size. That is, we don't need to hold out the validation data now that we've made all our modeling decisions."
      ]
    },
    {
      "cell_type": "code",
      "metadata": {
        "id": "eiqh5kUTuzty",
        "colab_type": "code",
        "colab": {}
      },
      "source": [
        "#now fit the model to the X_train and y_train with best tree size\n",
        "final_model = DecisionTreeRegressor(max_leaf_nodes=100, random_state=0)\n",
        "final_model.fit(X_train,y_train)\n",
        "# Predict with all X_test observations\n",
        "y_pred = final_model.predict(X_test)\n",
        "\n",
        "#Inspect your predictions and actual values from the housing data\n",
        "np.set_printoptions(precision=2)\n",
        "#comapre y_pred and y_test values\n",
        "print(np.concatenate((y_pred.reshape(len(y_pred),1), y_test.reshape(len(y_test),1)),1))"
      ],
      "execution_count": null,
      "outputs": []
    },
    {
      "cell_type": "code",
      "metadata": {
        "id": "wOuFdWOndWxd",
        "colab_type": "code",
        "colab": {
          "base_uri": "https://localhost:8080/",
          "height": 136
        },
        "outputId": "9fc621cd-9564-46d0-bb09-960fb581a3bb"
      },
      "source": [
        "#now fit the model to the whole dataset with best tree size\n",
        "#In theory, this should get much better results than previous 2 as it is trained on whole dataset\n",
        "model=DecisionTreeRegressor(max_leaf_nodes=100, random_state=0)\n",
        "model.fit(X,y)\n",
        "y_prediction=model.predict(X)\n",
        "np.set_printoptions(precision=2)\n",
        "print(np.concatenate((y_prediction.reshape(len(y_prediction),1), y.reshape(len(y),1)),1))"
      ],
      "execution_count": null,
      "outputs": [
        {
          "output_type": "stream",
          "text": [
            "[[209133.65 208500.  ]\n",
            " [146415.01 181500.  ]\n",
            " [209133.65 223500.  ]\n",
            " ...\n",
            " [238763.64 266500.  ]\n",
            " [130629.   142125.  ]\n",
            " [146415.01 147500.  ]]\n"
          ],
          "name": "stdout"
        }
      ]
    },
    {
      "cell_type": "markdown",
      "metadata": {
        "id": "Wo5NfYWwjJW6",
        "colab_type": "text"
      },
      "source": [
        "**RANDOM FOREST REGRESSOR**"
      ]
    },
    {
      "cell_type": "code",
      "metadata": {
        "colab_type": "code",
        "id": "t84uHlTcjyC4",
        "colab": {
          "base_uri": "https://localhost:8080/",
          "height": 1000
        },
        "outputId": "13f87eda-ddf4-4c43-9449-9d912c501190"
      },
      "source": [
        "# Import the train_test_split function and uncomment\n",
        "from sklearn.model_selection import train_test_split\n",
        "X_train, X_test, y_train, y_test = train_test_split(X,y, test_size=0.2, random_state=1)\n",
        "# Specify the model\n",
        "from sklearn.ensemble import RandomForestRegressor\n",
        "model_rfr = RandomForestRegressor(random_state=1)\n",
        "\n",
        "# Fit iowa_model with the training data.\n",
        "model_rfr.fit(X_train, y_train)\n",
        "\n",
        "# Predict with all X_test observations\n",
        "y_pred = model_rfr.predict(X_test)\n",
        "\n",
        "#Inspect your predictions and actual values from the housing data\n",
        "np.set_printoptions(precision=2)\n",
        "#print(y_test)\n",
        "#print(y_pred)\n",
        "\n",
        "#comapre y_pred and y_test values\n",
        "print(np.concatenate((y_pred.reshape(len(y_pred),1), y_test.reshape(len(y_test),1)),1))\n",
        "\n",
        "#calculate mean absolute error\n",
        "from sklearn.metrics import mean_absolute_error\n",
        "value_rfr_mae = mean_absolute_error(y_test, y_pred)\n",
        "print(\"Validation MAE($): {:,.0f}\".format(value_rfr_mae))"
      ],
      "execution_count": null,
      "outputs": [
        {
          "output_type": "stream",
          "text": [
            "[[196941.65 231500.  ]\n",
            " [147818.   179500.  ]\n",
            " [129379.08 122000.  ]\n",
            " [ 85505.    84500.  ]\n",
            " [150151.5  142000.  ]\n",
            " [273221.2  325624.  ]\n",
            " [328546.24 285000.  ]\n",
            " [146899.38 151000.  ]\n",
            " [216315.05 195000.  ]\n",
            " [224342.   275000.  ]\n",
            " [172243.55 175000.  ]\n",
            " [104164.72  61000.  ]\n",
            " [219098.11 174000.  ]\n",
            " [251084.44 385000.  ]\n",
            " [257950.77 230000.  ]\n",
            " [110349.04  87000.  ]\n",
            " [112567.5  125000.  ]\n",
            " [146058.    98600.  ]\n",
            " [193355.54 260000.  ]\n",
            " [137974.67 143000.  ]\n",
            " [148493.5  124000.  ]\n",
            " [186211.93 122500.  ]\n",
            " [225478.   236500.  ]\n",
            " [323742.76 337500.  ]\n",
            " [102934.    76000.  ]\n",
            " [167113.   187000.  ]\n",
            " [120431.5  128000.  ]\n",
            " [194559.58 179000.  ]\n",
            " [499317.24 485000.  ]\n",
            " [123477.34 122500.  ]\n",
            " [139854.28 106000.  ]\n",
            " [ 99179.58 118000.  ]\n",
            " [121814.   127000.  ]\n",
            " [110288.    80000.  ]\n",
            " [138323.5  153000.  ]\n",
            " [332372.15 360000.  ]\n",
            " [111756.25 132000.  ]\n",
            " [106987.71  85500.  ]\n",
            " [285568.86 262280.  ]\n",
            " [113825.5  112000.  ]\n",
            " [141027.   131000.  ]\n",
            " [129672.75 139000.  ]\n",
            " [104018.75  87000.  ]\n",
            " [113069.5  135000.  ]\n",
            " [182054.   181000.  ]\n",
            " [174602.69 163500.  ]\n",
            " [ 86826.61 116900.  ]\n",
            " [191828.14 159895.  ]\n",
            " [251488.14 244600.  ]\n",
            " [221270.65 294000.  ]\n",
            " [136415.    97000.  ]\n",
            " [387466.82 295000.  ]\n",
            " [100252.   120500.  ]\n",
            " [240920.2  239500.  ]\n",
            " [190275.27 194000.  ]\n",
            " [107226.25 115000.  ]\n",
            " [127253.08 119500.  ]\n",
            " [176176.   180000.  ]\n",
            " [129478.5  118000.  ]\n",
            " [178361.64 178000.  ]\n",
            " [169353.64 167000.  ]\n",
            " [310124.22 267000.  ]\n",
            " [118727.83  82000.  ]\n",
            " [124821.   133900.  ]\n",
            " [168319.5  167000.  ]\n",
            " [123752.5  132500.  ]\n",
            " [135258.37 135000.  ]\n",
            " [231295.1  248000.  ]\n",
            " [162061.32 160000.  ]\n",
            " [150439.97 144500.  ]\n",
            " [205269.8  200500.  ]\n",
            " [129888.67 113000.  ]\n",
            " [310781.18 354000.  ]\n",
            " [148859.7  164000.  ]\n",
            " [126482.32 170000.  ]\n",
            " [223752.84 224000.  ]\n",
            " [171186.   163900.  ]\n",
            " [110474.04 160000.  ]\n",
            " [352495.55 466500.  ]\n",
            " [191660.06 172500.  ]\n",
            " [203226.19 193500.  ]\n",
            " [142931.84 133000.  ]\n",
            " [130851.6  137000.  ]\n",
            " [149145.5  167500.  ]\n",
            " [181686.5  196500.  ]\n",
            " [150114.36 146000.  ]\n",
            " [155518.   159500.  ]\n",
            " [167517.8  158000.  ]\n",
            " [198681.35 189000.  ]\n",
            " [168289.   172500.  ]\n",
            " [237493.8  194201.  ]\n",
            " [155874.   181000.  ]\n",
            " [124414.   115000.  ]\n",
            " [140881.5  101800.  ]\n",
            " [125867.21 100000.  ]\n",
            " [105973.89 139000.  ]\n",
            " [122547.08 115000.  ]\n",
            " [142604.5  139000.  ]\n",
            " [135153.6  156000.  ]\n",
            " [146190.96 158000.  ]\n",
            " [189775.   172000.  ]\n",
            " [126458.93 138000.  ]\n",
            " [122628.91 125500.  ]\n",
            " [118335.   123000.  ]\n",
            " [107591.25 134500.  ]\n",
            " [147095.21 163000.  ]\n",
            " [184843.11 169990.  ]\n",
            " [142997.62 140000.  ]\n",
            " [156954.34 140000.  ]\n",
            " [314511.24 325000.  ]\n",
            " [129021.26 157500.  ]\n",
            " [164015.59 225000.  ]\n",
            " [143823.   107000.  ]\n",
            " [190679.16 185500.  ]\n",
            " [225819.48 239900.  ]\n",
            " [177155.27 163990.  ]\n",
            " [239841.4  201000.  ]\n",
            " [120444.5  127000.  ]\n",
            " [177901.12 172500.  ]\n",
            " [197815.02 228000.  ]\n",
            " [146670.   117000.  ]\n",
            " [252193.61 232600.  ]\n",
            " [321565.61 403000.  ]\n",
            " [138854.   169500.  ]\n",
            " [236296.18 151400.  ]\n",
            " [172477.94 180000.  ]\n",
            " [294632.72 370878.  ]\n",
            " [117828.83  55993.  ]\n",
            " [182297.8  207500.  ]\n",
            " [215182.41 224500.  ]\n",
            " [270333.77 280000.  ]\n",
            " [123692.25  82000.  ]\n",
            " [120672.5  137000.  ]\n",
            " [112044.   130500.  ]\n",
            " [ 89644.    73000.  ]\n",
            " [202043.   217000.  ]\n",
            " [554044.1  625000.  ]\n",
            " [283284.26 367294.  ]\n",
            " [234132.   230000.  ]\n",
            " [115039.48 142000.  ]\n",
            " [150562.5  115000.  ]\n",
            " [265996.89 272000.  ]\n",
            " [134494.5  176500.  ]\n",
            " [202084.22 234000.  ]\n",
            " [131650.12  40000.  ]\n",
            " [226466.65 213500.  ]\n",
            " [111357.76 126000.  ]\n",
            " [220738.75 187100.  ]\n",
            " [221713.23 200000.  ]\n",
            " [127198.82 117500.  ]\n",
            " [175868.75 176000.  ]\n",
            " [179162.24 174000.  ]\n",
            " [127398.5   97000.  ]\n",
            " [181125.75 169000.  ]\n",
            " [174931.5  154000.  ]\n",
            " [340602.09 361919.  ]\n",
            " [ 89956.26  85000.  ]\n",
            " [148738.87 134000.  ]\n",
            " [105578.21  96500.  ]\n",
            " [138136.09 127000.  ]\n",
            " [102762.11  60000.  ]\n",
            " [ 97908.   108480.  ]\n",
            " [148028.85 151000.  ]\n",
            " [142998.47 135000.  ]\n",
            " [139474.49  99500.  ]\n",
            " [146672.   124000.  ]\n",
            " [176969.65 177500.  ]\n",
            " [155962.18 144000.  ]\n",
            " [147111.15 119000.  ]\n",
            " [129433.   107500.  ]\n",
            " [246196.2  254900.  ]\n",
            " [179703.61 180500.  ]\n",
            " [237963.25 222000.  ]\n",
            " [299205.77 271000.  ]\n",
            " [195035.15 181000.  ]\n",
            " [137012.41 140000.  ]\n",
            " [187092.7  158000.  ]\n",
            " [207382.   204750.  ]\n",
            " [126460.92 135000.  ]\n",
            " [152181.   161500.  ]\n",
            " [125728.08 128500.  ]\n",
            " [173046.29 179540.  ]\n",
            " [180670.7  143000.  ]\n",
            " [123737.82 147000.  ]\n",
            " [284321.98 280000.  ]\n",
            " [173638.   131500.  ]\n",
            " [399236.28 253293.  ]\n",
            " [288421.87 317000.  ]\n",
            " [154264.93 210000.  ]\n",
            " [119200.   120000.  ]\n",
            " [116086.   110000.  ]\n",
            " [149655.53 127000.  ]\n",
            " [ 90083.92 106000.  ]\n",
            " [145794.81 172500.  ]\n",
            " [129980.16 166000.  ]\n",
            " [312292.93 258000.  ]\n",
            " [257310.82 213000.  ]\n",
            " [147171.09 150000.  ]\n",
            " [149626.5  158500.  ]\n",
            " [ 75606.5   82500.  ]\n",
            " [193273.65 212000.  ]\n",
            " [231588.03 238000.  ]\n",
            " [170948.   158000.  ]\n",
            " [183847.   178000.  ]\n",
            " [268088.96 328900.  ]\n",
            " [100184.   110000.  ]\n",
            " [185790.5  185000.  ]\n",
            " [321654.31 320000.  ]\n",
            " [254128.79 315000.  ]\n",
            " [233064.   228950.  ]\n",
            " [192459.65 180000.  ]\n",
            " [109044.   117000.  ]\n",
            " [165110.87 176000.  ]\n",
            " [137862.5  111250.  ]\n",
            " [280772.53 297000.  ]\n",
            " [261959.9  266000.  ]\n",
            " [124333.   130000.  ]\n",
            " [ 97941.    93500.  ]\n",
            " [187583.7  186700.  ]\n",
            " [ 91359.28  91000.  ]\n",
            " [612946.2  745000.  ]\n",
            " [119819.    62383.  ]\n",
            " [168472.35 172500.  ]\n",
            " [173976.05 170000.  ]\n",
            " [105532.52 119000.  ]\n",
            " [117842.06 129900.  ]\n",
            " [197705.39 210000.  ]\n",
            " [188493.08 173000.  ]\n",
            " [165702.54 164500.  ]\n",
            " [173628.   170000.  ]\n",
            " [124141.   125500.  ]\n",
            " [184682.5  183000.  ]\n",
            " [113318.5  103000.  ]\n",
            " [131194.   141500.  ]\n",
            " [268938.26 315500.  ]\n",
            " [134515.96 118858.  ]\n",
            " [306275.94 290000.  ]\n",
            " [117138.24 119000.  ]\n",
            " [145601.32 104900.  ]\n",
            " [293164.03 348000.  ]\n",
            " [261129.82 374000.  ]\n",
            " [150450.48 200100.  ]\n",
            " [149917.82 132250.  ]\n",
            " [160890.46 161500.  ]\n",
            " [138255.5  131500.  ]\n",
            " [131148.74 104000.  ]\n",
            " [145132.37 132500.  ]\n",
            " [163898.84 133000.  ]\n",
            " [164229.   170000.  ]\n",
            " [163351.5  180000.  ]\n",
            " [122106.   130000.  ]\n",
            " [109576.33 125000.  ]\n",
            " [181472.89 186500.  ]\n",
            " [162105.25 171500.  ]\n",
            " [145608.2  100000.  ]\n",
            " [113859.5  114500.  ]\n",
            " [178224.85 173000.  ]\n",
            " [ 83902.33  86000.  ]\n",
            " [347402.62 320000.  ]\n",
            " [126823.6  133000.  ]\n",
            " [190537.63 220000.  ]\n",
            " [203111.24 137900.  ]\n",
            " [209915.13 224900.  ]\n",
            " [183993.4  153500.  ]\n",
            " [128194.74 115000.  ]\n",
            " [184183.   207500.  ]\n",
            " [149006.   113000.  ]\n",
            " [135504.   178400.  ]\n",
            " [147488.5  140000.  ]\n",
            " [ 97542.33  83000.  ]\n",
            " [162996.52 197000.  ]\n",
            " [178248.24 187500.  ]\n",
            " [109050.34  81000.  ]\n",
            " [134166.    93500.  ]\n",
            " [172836.55 197500.  ]\n",
            " [139118.    93000.  ]\n",
            " [117346.04 106000.  ]\n",
            " [141409.58 144000.  ]\n",
            " [192759.24 220000.  ]\n",
            " [135638.5  144900.  ]\n",
            " [139046.75 139000.  ]\n",
            " [133680.5  132000.  ]\n",
            " [138141.5  149000.  ]\n",
            " [152207.5  153500.  ]\n",
            " [244163.38 263435.  ]\n",
            " [245100.32 205000.  ]\n",
            " [132515.36 132500.  ]\n",
            " [116055.   103200.  ]\n",
            " [257724.2  249700.  ]\n",
            " [110495.75  64500.  ]\n",
            " [112385.    83000.  ]\n",
            " [269107.77 339750.  ]]\n",
            "Validation MAE($): 22,256\n"
          ],
          "name": "stdout"
        }
      ]
    },
    {
      "cell_type": "markdown",
      "metadata": {
        "id": "K-zOm6OHlBgd",
        "colab_type": "text"
      },
      "source": [
        "This Random Forest Regressor shows better result on test datasets when compared with Decision Tree Regressor"
      ]
    }
  ]
}